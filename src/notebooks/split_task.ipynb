{
 "cells": [
  {
   "cell_type": "code",
   "execution_count": 22,
   "metadata": {},
   "outputs": [],
   "source": [
    "import pandas as pd\n",
    "import copy"
   ]
  },
  {
   "cell_type": "code",
   "execution_count": 34,
   "metadata": {},
   "outputs": [
    {
     "data": {
      "text/html": [
       "<div>\n",
       "<style scoped>\n",
       "    .dataframe tbody tr th:only-of-type {\n",
       "        vertical-align: middle;\n",
       "    }\n",
       "\n",
       "    .dataframe tbody tr th {\n",
       "        vertical-align: top;\n",
       "    }\n",
       "\n",
       "    .dataframe thead th {\n",
       "        text-align: right;\n",
       "    }\n",
       "</style>\n",
       "<table border=\"1\" class=\"dataframe\">\n",
       "  <thead>\n",
       "    <tr style=\"text-align: right;\">\n",
       "      <th></th>\n",
       "      <th>task_name</th>\n",
       "      <th>xmin</th>\n",
       "      <th>xmax</th>\n",
       "      <th>ymin</th>\n",
       "      <th>ymax</th>\n",
       "      <th>label</th>\n",
       "      <th>h</th>\n",
       "      <th>w</th>\n",
       "    </tr>\n",
       "  </thead>\n",
       "  <tbody>\n",
       "    <tr>\n",
       "      <th>0</th>\n",
       "      <td>task_2021-03-01_09/20210301-090002_(13.0).jpg</td>\n",
       "      <td>488.256</td>\n",
       "      <td>40.3648</td>\n",
       "      <td>881.856</td>\n",
       "      <td>769.7600</td>\n",
       "      <td>VEREUR</td>\n",
       "      <td>1920</td>\n",
       "      <td>1088</td>\n",
       "    </tr>\n",
       "    <tr>\n",
       "      <th>1</th>\n",
       "      <td>task_2021-03-01_09/20210301-090008_(9.0).jpg</td>\n",
       "      <td>1024.704</td>\n",
       "      <td>441.7280</td>\n",
       "      <td>1366.272</td>\n",
       "      <td>1082.3424</td>\n",
       "      <td>MESCHA</td>\n",
       "      <td>1920</td>\n",
       "      <td>1088</td>\n",
       "    </tr>\n",
       "    <tr>\n",
       "      <th>2</th>\n",
       "      <td>task_2021-03-01_09/20210301-090012_(23.0).jpg</td>\n",
       "      <td>1001.472</td>\n",
       "      <td>599.9232</td>\n",
       "      <td>1916.160</td>\n",
       "      <td>1088.0000</td>\n",
       "      <td>MESCHA</td>\n",
       "      <td>1920</td>\n",
       "      <td>1088</td>\n",
       "    </tr>\n",
       "  </tbody>\n",
       "</table>\n",
       "</div>"
      ],
      "text/plain": [
       "                                       task_name      xmin      xmax  \\\n",
       "0  task_2021-03-01_09/20210301-090002_(13.0).jpg   488.256   40.3648   \n",
       "1   task_2021-03-01_09/20210301-090008_(9.0).jpg  1024.704  441.7280   \n",
       "2  task_2021-03-01_09/20210301-090012_(23.0).jpg  1001.472  599.9232   \n",
       "\n",
       "       ymin       ymax   label     h     w  \n",
       "0   881.856   769.7600  VEREUR  1920  1088  \n",
       "1  1366.272  1082.3424  MESCHA  1920  1088  \n",
       "2  1916.160  1088.0000  MESCHA  1920  1088  "
      ]
     },
     "execution_count": 34,
     "metadata": {},
     "output_type": "execute_result"
    }
   ],
   "source": [
    "dataset_test = pd.read_csv(\"/home/acarlier/code/OrnithoScope_keras/keras_yolo2/birds_data_csv/input_test.csv\",\n",
    "                           names=['task_name','xmin','xmax','ymin','ymax','label','h','w'])\n",
    "dataset_test.head(3)"
   ]
  },
  {
   "cell_type": "code",
   "execution_count": 36,
   "metadata": {},
   "outputs": [],
   "source": [
    "def df_to_grouped_csv(_df):\n",
    "    df = copy.deepcopy(_df)\n",
    "    df[['_task_name', 'file_name']] = df['task_name'].str.split('/', 1, expand=True)\n",
    "    df_group = df.groupby(['_task_name'])\n",
    "    for name, group in df_group:\n",
    "        outfile = f\"{name}.csv\"\n",
    "        #group['task_name'] = group['_task_name'] + '-' + group['file_name']\n",
    "        group[['task_name','xmin','xmax','ymin','ymax','label','h','w']].to_csv(\n",
    "            f\"/home/acarlier/code/OrnithoScope_keras/keras_yolo2/birds_data_csv/input_test_per_tasks/{outfile}\", \n",
    "            index=False,header=False)"
   ]
  },
  {
   "cell_type": "code",
   "execution_count": 37,
   "metadata": {},
   "outputs": [],
   "source": [
    "df_to_grouped_csv(dataset_test)"
   ]
  },
  {
   "cell_type": "code",
   "execution_count": 10,
   "metadata": {},
   "outputs": [
    {
     "ename": "AttributeError",
     "evalue": "'DataFrameGroupBy' object has no attribute 'shape'",
     "output_type": "error",
     "traceback": [
      "\u001b[0;31m---------------------------------------------------------------------------\u001b[0m",
      "\u001b[0;31mAttributeError\u001b[0m                            Traceback (most recent call last)",
      "\u001b[1;32m/home/acarlier/code/OrnithoScope_keras/keras_yolo2/keras_yolov2/notebooks/split_task.ipynb Cell 5'\u001b[0m in \u001b[0;36m<module>\u001b[0;34m\u001b[0m\n\u001b[0;32m----> <a href='vscode-notebook-cell:/home/acarlier/code/OrnithoScope_keras/keras_yolo2/keras_yolov2/notebooks/split_task.ipynb#ch0000006?line=0'>1</a>\u001b[0m _\u001b[39m.\u001b[39;49mshape\n",
      "File \u001b[0;32m~/.local/lib/python3.8/site-packages/pandas/core/groupby/groupby.py:904\u001b[0m, in \u001b[0;36mGroupBy.__getattr__\u001b[0;34m(self, attr)\u001b[0m\n\u001b[1;32m    <a href='file:///home/acarlier/.local/lib/python3.8/site-packages/pandas/core/groupby/groupby.py?line=900'>901</a>\u001b[0m \u001b[39mif\u001b[39;00m attr \u001b[39min\u001b[39;00m \u001b[39mself\u001b[39m\u001b[39m.\u001b[39mobj:\n\u001b[1;32m    <a href='file:///home/acarlier/.local/lib/python3.8/site-packages/pandas/core/groupby/groupby.py?line=901'>902</a>\u001b[0m     \u001b[39mreturn\u001b[39;00m \u001b[39mself\u001b[39m[attr]\n\u001b[0;32m--> <a href='file:///home/acarlier/.local/lib/python3.8/site-packages/pandas/core/groupby/groupby.py?line=903'>904</a>\u001b[0m \u001b[39mraise\u001b[39;00m \u001b[39mAttributeError\u001b[39;00m(\n\u001b[1;32m    <a href='file:///home/acarlier/.local/lib/python3.8/site-packages/pandas/core/groupby/groupby.py?line=904'>905</a>\u001b[0m     \u001b[39mf\u001b[39m\u001b[39m\"\u001b[39m\u001b[39m'\u001b[39m\u001b[39m{\u001b[39;00m\u001b[39mtype\u001b[39m(\u001b[39mself\u001b[39m)\u001b[39m.\u001b[39m\u001b[39m__name__\u001b[39m\u001b[39m}\u001b[39;00m\u001b[39m'\u001b[39m\u001b[39m object has no attribute \u001b[39m\u001b[39m'\u001b[39m\u001b[39m{\u001b[39;00mattr\u001b[39m}\u001b[39;00m\u001b[39m'\u001b[39m\u001b[39m\"\u001b[39m\n\u001b[1;32m    <a href='file:///home/acarlier/.local/lib/python3.8/site-packages/pandas/core/groupby/groupby.py?line=905'>906</a>\u001b[0m )\n",
      "\u001b[0;31mAttributeError\u001b[0m: 'DataFrameGroupBy' object has no attribute 'shape'"
     ]
    }
   ],
   "source": [
    "_.shape"
   ]
  },
  {
   "cell_type": "code",
   "execution_count": null,
   "metadata": {},
   "outputs": [],
   "source": []
  }
 ],
 "metadata": {
  "interpreter": {
   "hash": "916dbcbb3f70747c44a77c7bcd40155683ae19c65e1c03b4aa3499c5328201f1"
  },
  "kernelspec": {
   "display_name": "Python 3.8.10 64-bit",
   "language": "python",
   "name": "python3"
  },
  "language_info": {
   "codemirror_mode": {
    "name": "ipython",
    "version": 3
   },
   "file_extension": ".py",
   "mimetype": "text/x-python",
   "name": "python",
   "nbconvert_exporter": "python",
   "pygments_lexer": "ipython3",
   "version": "3.8.10"
  },
  "orig_nbformat": 4
 },
 "nbformat": 4,
 "nbformat_minor": 2
}
