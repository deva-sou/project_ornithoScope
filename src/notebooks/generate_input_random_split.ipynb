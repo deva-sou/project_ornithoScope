{
 "cells": [
  {
   "cell_type": "code",
   "execution_count": 2,
   "metadata": {},
   "outputs": [],
   "source": [
    "import pandas as pd\n",
    "from sklearn.model_selection import train_test_split"
   ]
  },
  {
   "cell_type": "code",
   "execution_count": 19,
   "metadata": {},
   "outputs": [
    {
     "name": "stdout",
     "output_type": "stream",
     "text": [
      "(10314, 8)\n",
      "(3771, 8)\n",
      "                                      path        x1        x2       y1  \\\n",
      "0  task_05-01-2021/2021-01-05-15-58-14.jpg  1067.136  389.6128  1354.56   \n",
      "\n",
      "         y2   label     w     h  \n",
      "0  596.1152  MESCHA  1920  1088  \n",
      "(14085, 8)\n"
     ]
    }
   ],
   "source": [
    "\n",
    "df_input_train = pd.read_csv('/home/acarlier/code/project_ornithoScope/src/data/inputs/input_train.csv',\n",
    "                       names = [\"path\",\"x1\",\"x2\",\"y1\",\"y2\",\"label\",'w','h'])\n",
    "print(df_input_train.shape)\n",
    "df_input_test = pd.read_csv('/home/acarlier/code/project_ornithoScope/src/data/inputs/input_test.csv',\n",
    "                       names = [\"path\",\"x1\",\"x2\",\"y1\",\"y2\",\"label\",'w','h'])\n",
    "print(df_input_test.shape)\n",
    "df_input = pd.concat([df_input_train, df_input_test], ignore_index=True)\n",
    "print(df_input.head(1))\n",
    "print(df_input.shape)\n",
    "df_input.to_csv('/home/acarlier/code/project_ornithoScope/src/data/input_randomized/input_train_all_random.csv', header=False,index=False)"
   ]
  },
  {
   "cell_type": "code",
   "execution_count": null,
   "metadata": {},
   "outputs": [],
   "source": []
  },
  {
   "cell_type": "code",
   "execution_count": 7,
   "metadata": {},
   "outputs": [
    {
     "data": {
      "text/plain": [
       "(10314, 7)"
      ]
     },
     "execution_count": 7,
     "metadata": {},
     "output_type": "execute_result"
    }
   ],
   "source": []
  },
  {
   "cell_type": "code",
   "execution_count": 14,
   "metadata": {},
   "outputs": [],
   "source": [
    "train, test = train_test_split(df_input, test_size=0.3)"
   ]
  },
  {
   "cell_type": "code",
   "execution_count": 15,
   "metadata": {},
   "outputs": [],
   "source": [
    "train.to_csv('/home/acarlier/code/project_ornithoScope/src/data/input_randomized/input_train_random.csv', header=False,index=False)"
   ]
  },
  {
   "cell_type": "code",
   "execution_count": 16,
   "metadata": {},
   "outputs": [],
   "source": [
    "test.to_csv('/home/acarlier/code/project_ornithoScope/src/data/input_randomized/input_test_random.csv', header=False,index=False)"
   ]
  },
  {
   "cell_type": "code",
   "execution_count": null,
   "metadata": {},
   "outputs": [],
   "source": []
  },
  {
   "cell_type": "markdown",
   "metadata": {},
   "source": [
    "# Version 2 avec les split groupé par image"
   ]
  },
  {
   "cell_type": "code",
   "execution_count": 12,
   "metadata": {},
   "outputs": [
    {
     "name": "stdout",
     "output_type": "stream",
     "text": [
      "(10314, 7)\n",
      "(3771, 7)\n"
     ]
    },
    {
     "data": {
      "text/html": [
       "<div>\n",
       "<style scoped>\n",
       "    .dataframe tbody tr th:only-of-type {\n",
       "        vertical-align: middle;\n",
       "    }\n",
       "\n",
       "    .dataframe tbody tr th {\n",
       "        vertical-align: top;\n",
       "    }\n",
       "\n",
       "    .dataframe thead th {\n",
       "        text-align: right;\n",
       "    }\n",
       "</style>\n",
       "<table border=\"1\" class=\"dataframe\">\n",
       "  <thead>\n",
       "    <tr style=\"text-align: right;\">\n",
       "      <th></th>\n",
       "      <th>split</th>\n",
       "      <th>path</th>\n",
       "      <th>x1</th>\n",
       "      <th>x2</th>\n",
       "      <th>y1</th>\n",
       "      <th>y2</th>\n",
       "      <th>label</th>\n",
       "    </tr>\n",
       "  </thead>\n",
       "  <tbody>\n",
       "    <tr>\n",
       "      <th>task_05-01-2021/2021-01-05-15-58-14.jpg</th>\n",
       "      <td>1067.136</td>\n",
       "      <td>389.6128</td>\n",
       "      <td>1354.560</td>\n",
       "      <td>596.1152</td>\n",
       "      <td>MESCHA</td>\n",
       "      <td>1920</td>\n",
       "      <td>1088</td>\n",
       "    </tr>\n",
       "    <tr>\n",
       "      <th>task_05-01-2021/2021-01-05-15-58-14.jpg</th>\n",
       "      <td>885.696</td>\n",
       "      <td>603.8400</td>\n",
       "      <td>1918.080</td>\n",
       "      <td>1088.0000</td>\n",
       "      <td>SITTOR</td>\n",
       "      <td>1920</td>\n",
       "      <td>1088</td>\n",
       "    </tr>\n",
       "    <tr>\n",
       "      <th>task_05-01-2021/2021-01-05-15-58-16.jpg</th>\n",
       "      <td>845.184</td>\n",
       "      <td>223.6928</td>\n",
       "      <td>1057.536</td>\n",
       "      <td>401.1456</td>\n",
       "      <td>MESCHA</td>\n",
       "      <td>1920</td>\n",
       "      <td>1088</td>\n",
       "    </tr>\n",
       "    <tr>\n",
       "      <th>task_05-01-2021/2021-01-05-15-58-16.jpg</th>\n",
       "      <td>1127.040</td>\n",
       "      <td>538.2336</td>\n",
       "      <td>1900.608</td>\n",
       "      <td>1012.9280</td>\n",
       "      <td>SITTOR</td>\n",
       "      <td>1920</td>\n",
       "      <td>1088</td>\n",
       "    </tr>\n",
       "    <tr>\n",
       "      <th>task_05-01-2021/2021-01-05-15-58-21.jpg</th>\n",
       "      <td>1014.912</td>\n",
       "      <td>524.7424</td>\n",
       "      <td>1920.000</td>\n",
       "      <td>1047.6352</td>\n",
       "      <td>MESCHA</td>\n",
       "      <td>1920</td>\n",
       "      <td>1088</td>\n",
       "    </tr>\n",
       "    <tr>\n",
       "      <th>...</th>\n",
       "      <td>...</td>\n",
       "      <td>...</td>\n",
       "      <td>...</td>\n",
       "      <td>...</td>\n",
       "      <td>...</td>\n",
       "      <td>...</td>\n",
       "      <td>...</td>\n",
       "    </tr>\n",
       "    <tr>\n",
       "      <th>task_MOIDOM_ODJ/885.jpeg</th>\n",
       "      <td>206.730</td>\n",
       "      <td>114.6834</td>\n",
       "      <td>270.450</td>\n",
       "      <td>166.3636</td>\n",
       "      <td>MOIDOM</td>\n",
       "      <td>450</td>\n",
       "      <td>338</td>\n",
       "    </tr>\n",
       "    <tr>\n",
       "      <th>task_MOIDOM_ODJ/885.jpeg</th>\n",
       "      <td>192.555</td>\n",
       "      <td>149.9706</td>\n",
       "      <td>252.270</td>\n",
       "      <td>183.9396</td>\n",
       "      <td>MOIDOM</td>\n",
       "      <td>450</td>\n",
       "      <td>338</td>\n",
       "    </tr>\n",
       "    <tr>\n",
       "      <th>task_MOIDOM_ODJ/906.jpeg</th>\n",
       "      <td>1.980</td>\n",
       "      <td>165.6900</td>\n",
       "      <td>223.860</td>\n",
       "      <td>350.7300</td>\n",
       "      <td>MOIDOM</td>\n",
       "      <td>600</td>\n",
       "      <td>450</td>\n",
       "    </tr>\n",
       "    <tr>\n",
       "      <th>task_MOIDOM_ODJ/906.jpeg</th>\n",
       "      <td>213.360</td>\n",
       "      <td>214.2900</td>\n",
       "      <td>430.260</td>\n",
       "      <td>341.4600</td>\n",
       "      <td>MOIDOM</td>\n",
       "      <td>600</td>\n",
       "      <td>450</td>\n",
       "    </tr>\n",
       "    <tr>\n",
       "      <th>task_MOIDOM_ODJ/907.jpeg</th>\n",
       "      <td>0.360</td>\n",
       "      <td>137.7450</td>\n",
       "      <td>285.720</td>\n",
       "      <td>356.0850</td>\n",
       "      <td>MOIDOM</td>\n",
       "      <td>600</td>\n",
       "      <td>450</td>\n",
       "    </tr>\n",
       "  </tbody>\n",
       "</table>\n",
       "<p>10314 rows × 7 columns</p>\n",
       "</div>"
      ],
      "text/plain": [
       "                                            split      path        x1  \\\n",
       "task_05-01-2021/2021-01-05-15-58-14.jpg  1067.136  389.6128  1354.560   \n",
       "task_05-01-2021/2021-01-05-15-58-14.jpg   885.696  603.8400  1918.080   \n",
       "task_05-01-2021/2021-01-05-15-58-16.jpg   845.184  223.6928  1057.536   \n",
       "task_05-01-2021/2021-01-05-15-58-16.jpg  1127.040  538.2336  1900.608   \n",
       "task_05-01-2021/2021-01-05-15-58-21.jpg  1014.912  524.7424  1920.000   \n",
       "...                                           ...       ...       ...   \n",
       "task_MOIDOM_ODJ/885.jpeg                  206.730  114.6834   270.450   \n",
       "task_MOIDOM_ODJ/885.jpeg                  192.555  149.9706   252.270   \n",
       "task_MOIDOM_ODJ/906.jpeg                    1.980  165.6900   223.860   \n",
       "task_MOIDOM_ODJ/906.jpeg                  213.360  214.2900   430.260   \n",
       "task_MOIDOM_ODJ/907.jpeg                    0.360  137.7450   285.720   \n",
       "\n",
       "                                                x2      y1    y2  label  \n",
       "task_05-01-2021/2021-01-05-15-58-14.jpg   596.1152  MESCHA  1920   1088  \n",
       "task_05-01-2021/2021-01-05-15-58-14.jpg  1088.0000  SITTOR  1920   1088  \n",
       "task_05-01-2021/2021-01-05-15-58-16.jpg   401.1456  MESCHA  1920   1088  \n",
       "task_05-01-2021/2021-01-05-15-58-16.jpg  1012.9280  SITTOR  1920   1088  \n",
       "task_05-01-2021/2021-01-05-15-58-21.jpg  1047.6352  MESCHA  1920   1088  \n",
       "...                                            ...     ...   ...    ...  \n",
       "task_MOIDOM_ODJ/885.jpeg                  166.3636  MOIDOM   450    338  \n",
       "task_MOIDOM_ODJ/885.jpeg                  183.9396  MOIDOM   450    338  \n",
       "task_MOIDOM_ODJ/906.jpeg                  350.7300  MOIDOM   600    450  \n",
       "task_MOIDOM_ODJ/906.jpeg                  341.4600  MOIDOM   600    450  \n",
       "task_MOIDOM_ODJ/907.jpeg                  356.0850  MOIDOM   600    450  \n",
       "\n",
       "[10314 rows x 7 columns]"
      ]
     },
     "execution_count": 12,
     "metadata": {},
     "output_type": "execute_result"
    }
   ],
   "source": [
    "df_input_train2 = pd.read_csv('/home/acarlier/code/project_ornithoScope/src/data/inputs/input_train.csv',\n",
    "                       names = [\"split\",\"path\",\"x1\",\"x2\",\"y1\",\"y2\",\"label\"])\n",
    "print(df_input_train2.shape)\n",
    "df_input_test2 = pd.read_csv('/home/acarlier/code/project_ornithoScope/src/data/inputs/input_test.csv',\n",
    "                       names = [\"split\",\"path\",\"x1\",\"x2\",\"y1\",\"y2\",\"label\"])\n",
    "print(df_input_test2.shape)\n",
    "df_input_train2"
   ]
  },
  {
   "cell_type": "code",
   "execution_count": null,
   "metadata": {},
   "outputs": [],
   "source": [
    "df_input = pd.concat([df_input_train, df_input_test], ignore_index=True)\n",
    "print(df_input.shape)"
   ]
  }
 ],
 "metadata": {
  "interpreter": {
   "hash": "916dbcbb3f70747c44a77c7bcd40155683ae19c65e1c03b4aa3499c5328201f1"
  },
  "kernelspec": {
   "display_name": "Python 3.8.10 64-bit",
   "language": "python",
   "name": "python3"
  },
  "language_info": {
   "codemirror_mode": {
    "name": "ipython",
    "version": 3
   },
   "file_extension": ".py",
   "mimetype": "text/x-python",
   "name": "python",
   "nbconvert_exporter": "python",
   "pygments_lexer": "ipython3",
   "version": "3.8.10"
  },
  "orig_nbformat": 4
 },
 "nbformat": 4,
 "nbformat_minor": 2
}
