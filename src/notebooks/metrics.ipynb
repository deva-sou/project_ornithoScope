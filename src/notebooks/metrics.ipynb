{
 "cells": [
  {
   "cell_type": "code",
   "execution_count": 1,
   "metadata": {},
   "outputs": [],
   "source": [
    "import pickle"
   ]
  },
  {
   "cell_type": "code",
   "execution_count": 27,
   "metadata": {},
   "outputs": [],
   "source": [
    "import pandas as pd\n",
    "\n",
    "df_res = pd.read_pickle(r'/home/acarlier/code/OrnithoScope_keras/keras_yolo2/keras_yolov2/pickles/P_R_F1_mobile_net.p')\n",
    "class_metrics = pd.read_pickle(r'/home/acarlier/code/OrnithoScope_keras/keras_yolo2/keras_yolov2/pickles/TP_FP_FN_MobileNet.p')"
   ]
  },
  {
   "cell_type": "code",
   "execution_count": 28,
   "metadata": {},
   "outputs": [
    {
     "data": {
      "text/plain": [
       "[{'Specie': 'MESCHA', 'TP': 2167, 'FP': 1059, 'FN': 118},\n",
       " {'Specie': 'SITTOR', 'TP': 2, 'FP': 1, 'FN': 152},\n",
       " {'Specie': 'MESBLE', 'TP': 22, 'FP': 14, 'FN': 404},\n",
       " {'Specie': 'MESNON', 'TP': 90, 'FP': 12, 'FN': 108},\n",
       " {'Specie': 'PINARB', 'TP': 0, 'FP': 2, 'FN': 26},\n",
       " {'Specie': 'ACCMOU', 'TP': 37, 'FP': 53, 'FN': 55},\n",
       " {'Specie': 'ROUGOR', 'TP': 9, 'FP': 2, 'FN': 101},\n",
       " {'Specie': 'VEREUR', 'TP': 141, 'FP': 7, 'FN': 20},\n",
       " {'Specie': 'MOIDOM', 'TP': 0, 'FP': 5, 'FN': 23},\n",
       " {'Specie': 'TOUTUR', 'TP': 11, 'FP': 6, 'FN': 28},\n",
       " {'Specie': 'ECUROU', 'TP': 17, 'FP': 3, 'FN': 14},\n",
       " {'Specie': 'PIEBAV', 'TP': 163, 'FP': 39, 'FN': 10},\n",
       " {'Specie': 'MULGRI', 'TP': 3, 'FP': 50, 'FN': 16},\n",
       " {'Specie': 'CAMPAG', 'TP': 0, 'FP': 0, 'FN': 0},\n",
       " {'Specie': 'MESNOI', 'TP': 0, 'FP': 0, 'FN': 34},\n",
       " {'Specie': 'MESHUP', 'TP': 0, 'FP': 0, 'FN': 0}]"
      ]
     },
     "execution_count": 28,
     "metadata": {},
     "output_type": "execute_result"
    }
   ],
   "source": [
    "class_metrics"
   ]
  },
  {
   "cell_type": "code",
   "execution_count": 29,
   "metadata": {},
   "outputs": [
    {
     "data": {
      "text/plain": [
       "[{'Specie': 'MESCHA', 'Precision': 0.937, 'Rappel': 0.935, 'F-score': 0.936},\n",
       " {'Specie': 'SITTOR', 'Precision': 0.973, 'Rappel': 0.719, 'F-score': 0.827},\n",
       " {'Specie': 'MESBLE', 'Precision': 0.936, 'Rappel': 0.44, 'F-score': 0.599},\n",
       " {'Specie': 'MESNON', 'Precision': 0.841, 'Rappel': 0.916, 'F-score': 0.877},\n",
       " {'Specie': 'PINARB', 'Precision': 0.945, 'Rappel': 0.524, 'F-score': 0.675},\n",
       " {'Specie': 'ACCMOU', 'Precision': 0.83, 'Rappel': 0.808, 'F-score': 0.819},\n",
       " {'Specie': 'ROUGOR', 'Precision': 0.95, 'Rappel': 0.553, 'F-score': 0.699},\n",
       " {'Specie': 'VEREUR', 'Precision': 0.98, 'Rappel': 0.909, 'F-score': 0.943},\n",
       " {'Specie': 'MOIDOM', 'Precision': 0.938, 'Rappel': 0.195, 'F-score': 0.323},\n",
       " {'Specie': 'TOUTUR', 'Precision': 0.738, 'Rappel': 0.721, 'F-score': 0.729},\n",
       " {'Specie': 'ECUROU', 'Precision': 0.991, 'Rappel': 0.946, 'F-score': 0.968},\n",
       " {'Specie': 'PIEBAV', 'Precision': 0.908, 'Rappel': 0.931, 'F-score': 0.92},\n",
       " {'Specie': 'MULGRI', 'Precision': 0.627, 'Rappel': 0.474, 'F-score': 0.54},\n",
       " {'Specie': 'CAMPAG', 'Precision': 1.0, 'Rappel': 0.062, 'F-score': 0.118},\n",
       " {'Specie': 'MESNOI', 'Precision': 0.946, 'Rappel': 0.29, 'F-score': 0.444},\n",
       " {'Specie': 'MESHUP', 'Precision': 0.889, 'Rappel': 0.069, 'F-score': 0.128}]"
      ]
     },
     "execution_count": 29,
     "metadata": {},
     "output_type": "execute_result"
    }
   ],
   "source": [
    "df_res"
   ]
  },
  {
   "cell_type": "code",
   "execution_count": 30,
   "metadata": {},
   "outputs": [],
   "source": [
    "def get_p_r_f1_global(class_metrics):\n",
    "    # class_metrics = {'TP': 2434, 'FP': 283, 'FN': 80}\n",
    "    l = len(class_metrics)\n",
    "    tp = 0.0\n",
    "    fp = 0.0\n",
    "    fn = 0.0    \n",
    "    for class_bird in class_metrics:\n",
    "        if class_bird['TP'] !=0 and class_bird['FP'] !=0 and class_bird['FN'] !=0:\n",
    "            tp += class_bird['TP']\n",
    "            fp += class_bird['FP']\n",
    "            fn += class_bird['FN']\n",
    "        else:\n",
    "            l-=1\n",
    "    p = tp/(tp+fp)\n",
    "    r = tp/(tp+fn)\n",
    "    f = 2*((p*r)/(p+r))\n",
    "    return round(p,3),round(r,3),round(f,3) "
   ]
  },
  {
   "cell_type": "code",
   "execution_count": 31,
   "metadata": {},
   "outputs": [
    {
     "name": "stdout",
     "output_type": "stream",
     "text": [
      "0.681 0.722 0.701\n"
     ]
    }
   ],
   "source": [
    "p_global, r_global, f_global = get_p_r_f1_global(class_metrics)\n",
    "print(p_global,r_global,f_global)"
   ]
  },
  {
   "cell_type": "code",
   "execution_count": null,
   "metadata": {},
   "outputs": [],
   "source": []
  }
 ],
 "metadata": {
  "interpreter": {
   "hash": "916dbcbb3f70747c44a77c7bcd40155683ae19c65e1c03b4aa3499c5328201f1"
  },
  "kernelspec": {
   "display_name": "Python 3.8.10 64-bit",
   "language": "python",
   "name": "python3"
  },
  "language_info": {
   "codemirror_mode": {
    "name": "ipython",
    "version": 3
   },
   "file_extension": ".py",
   "mimetype": "text/x-python",
   "name": "python",
   "nbconvert_exporter": "python",
   "pygments_lexer": "ipython3",
   "version": "3.8.10"
  },
  "orig_nbformat": 4
 },
 "nbformat": 4,
 "nbformat_minor": 2
}
