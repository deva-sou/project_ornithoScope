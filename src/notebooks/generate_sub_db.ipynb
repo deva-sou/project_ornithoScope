{
 "cells": [
  {
   "cell_type": "code",
   "execution_count": 4,
   "metadata": {},
   "outputs": [],
   "source": [
    "import os\n",
    "import random\n",
    "import shutil  "
   ]
  },
  {
   "cell_type": "code",
   "execution_count": 11,
   "metadata": {},
   "outputs": [
    {
     "name": "stdout",
     "output_type": "stream",
     "text": [
      "335\n"
     ]
    }
   ],
   "source": [
    "files_list = []\n",
    "\n",
    "source_dir = '/home/acarlier/code/data_ornithoscope/p0133_bird_data/raw_data/task_20210705-07_balacet'\n",
    "for root, dirs, files in os.walk(source_dir):\n",
    "    for file in files:\n",
    "        #all \n",
    "        if file.endswith(\".jpg\") or file.endswith(\".png\") or file.endswith(\".jpeg\"):\n",
    "            files_list.append(os.path.join(root, file))\n",
    "\n",
    "\n",
    "#print images\n",
    "#lets me count and print the amount of jpeg,jpg,pmg \n",
    "file_count = len(files_list)\n",
    "print(file_count)\n",
    "\n",
    "# print files_list   \n",
    "filesToCopy = random.sample(files_list, 200)  #prints two random files from list \n",
    "\n",
    "destPath = \"/home/acarlier/code/data_ornithoscope/p0133_bird_data/tests_on_rawdata/_prediction_tests\"\n",
    "\n",
    "# if destination dir does not exists, create it\n",
    "if os.path.isdir(destPath) == False:\n",
    "        os.makedirs(destPath)\n",
    "        \n",
    "# iterate over all random files and move them\n",
    "for file in filesToCopy:\n",
    "    shutil.copy2(file, destPath)"
   ]
  },
  {
   "cell_type": "code",
   "execution_count": null,
   "metadata": {},
   "outputs": [],
   "source": []
  }
 ],
 "metadata": {
  "interpreter": {
   "hash": "b3b5bb1bcd71a03520cf73eb89f4762438b8f5a3fab272debfe39bdec838c6d6"
  },
  "kernelspec": {
   "display_name": "Python 3.8.10 ('venv_ornithoscope': venv)",
   "language": "python",
   "name": "python3"
  },
  "language_info": {
   "codemirror_mode": {
    "name": "ipython",
    "version": 3
   },
   "file_extension": ".py",
   "mimetype": "text/x-python",
   "name": "python",
   "nbconvert_exporter": "python",
   "pygments_lexer": "ipython3",
   "version": "3.8.10"
  },
  "orig_nbformat": 4
 },
 "nbformat": 4,
 "nbformat_minor": 2
}
