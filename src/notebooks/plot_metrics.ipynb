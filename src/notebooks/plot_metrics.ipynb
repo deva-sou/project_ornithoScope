{
 "cells": [
  {
   "cell_type": "code",
   "execution_count": 45,
   "metadata": {},
   "outputs": [],
   "source": [
    "import pandas as pd\n",
    "import os\n",
    "import seaborn as sns\n",
    "import matplotlib.pyplot as plt\n",
    "import pickle"
   ]
  },
  {
   "cell_type": "markdown",
   "metadata": {},
   "source": [
    "# TODO\n",
    "- Faire en sorte de rentrer dans le dossier contenant les metrics voulut"
   ]
  },
  {
   "cell_type": "code",
   "execution_count": 33,
   "metadata": {},
   "outputs": [],
   "source": [
    "dir_path = '/Users/devasou/code/deva-sou/project_ornithoScope/src/data/pickles/MobileNet_2022-04-15-02:39:12'\n",
    "files = [f for f in os.listdir(dir_path) if os.path.isfile(os.path.join(dir_path, f))]"
   ]
  },
  {
   "cell_type": "code",
   "execution_count": 76,
   "metadata": {},
   "outputs": [],
   "source": [
    "def plot_PRF_global(file):\n",
    "    file_loaded = pd.read_pickle(file)\n",
    "    df_file_loaded = pd.DataFrame(file_loaded,columns=['Specie',\n",
    "                                                   'Precision',\n",
    "                                                   'Rappel',\n",
    "                                                   'F-score'])"
   ]
  },
  {
   "cell_type": "code",
   "execution_count": 79,
   "metadata": {},
   "outputs": [],
   "source": [
    "def plot_all_metrics(files):\n",
    "    i = 0\n",
    "    for file in files:\n",
    "        if file.startswith('TP_FP_FN'):\n",
    "            pass\n",
    "            #print('TP FP FN\\t\\t',file)\n",
    "        elif file.startswith('P_R_F1_global'):\n",
    "            print('PRF Global\\t\\t',file)\n",
    "            plot_PRF_global(f\"{dir_path}/{file}\")\n",
    "            i += 1\n",
    "            print(i)\n",
    "        elif file.startswith('P_R_F1_MobileNet'):\n",
    "            pass\n",
    "            #print('PRF\\t\\t',file)"
   ]
  },
  {
   "cell_type": "code",
   "execution_count": 80,
   "metadata": {},
   "outputs": [
    {
     "name": "stdout",
     "output_type": "stream",
     "text": [
      "PRF Global\t\t P_R_F1_global_MobileNet_task_20210526_UPS.p\n",
      "1\n",
      "PRF Global\t\t P_R_F1_global_MobileNet_task_2021-03-01_10.p\n",
      "2\n",
      "PRF Global\t\t P_R_F1_global_MobileNet_task_2021-03-01_09.p\n",
      "3\n",
      "PRF Global\t\t P_R_F1_global_MobileNet_task_20211204_Orlu.p\n",
      "4\n",
      "PRF Global\t\t P_R_F1_global_MobileNet_task_21-01-2021.p\n",
      "5\n",
      "PRF Global\t\t P_R_F1_global_MobileNet_task_20210705-07_balacet.p\n",
      "6\n",
      "PRF Global\t\t P_R_F1_global_MobileNet_task_20210611_Lab.p\n",
      "7\n",
      "PRF Global\t\t P_R_F1_global_MobileNet_task_20210612_1_Lab.p\n",
      "8\n"
     ]
    }
   ],
   "source": [
    "plot_all_metrics(files)"
   ]
  },
  {
   "cell_type": "code",
   "execution_count": 81,
   "metadata": {},
   "outputs": [
    {
     "name": "stdout",
     "output_type": "stream",
     "text": [
      "[{'Specie': 'MESCHA', 'Precision': 0.914, 'Rappel': 0.941, 'F-score': 0.928}, {'Specie': 'SITTOR', 'Precision': 0, 'Rappel': 0, 'F-score': 0}, {'Specie': 'MESBLE', 'Precision': 0.75, 'Rappel': 0.6, 'F-score': 0.667}, {'Specie': 'MESNON', 'Precision': 0.0, 'Rappel': 0, 'F-score': 0}, {'Specie': 'PINARB', 'Precision': 1.0, 'Rappel': 0.333, 'F-score': 0.5}, {'Specie': 'ACCMOU', 'Precision': 0, 'Rappel': 0, 'F-score': 0}, {'Specie': 'ROUGOR', 'Precision': 0, 'Rappel': 0, 'F-score': 0}, {'Specie': 'VEREUR', 'Precision': 0.917, 'Rappel': 0.971, 'F-score': 0.943}, {'Specie': 'MOIDOM', 'Precision': 0, 'Rappel': 0.0, 'F-score': 0}, {'Specie': 'TOUTUR', 'Precision': 0.939, 'Rappel': 0.795, 'F-score': 0.861}, {'Specie': 'ECUROU', 'Precision': 0.0, 'Rappel': 0, 'F-score': 0}, {'Specie': 'PIEBAV', 'Precision': 0.0, 'Rappel': 0, 'F-score': 0}, {'Specie': 'MULGRI', 'Precision': 0, 'Rappel': 0, 'F-score': 0}, {'Specie': 'CAMPAG', 'Precision': 0, 'Rappel': 0, 'F-score': 0}, {'Specie': 'MESNOI', 'Precision': 0, 'Rappel': 0, 'F-score': 0}, {'Specie': 'MESHUP', 'Precision': 0, 'Rappel': 0, 'F-score': 0}]\n"
     ]
    }
   ],
   "source": [
    "path_file_test_global = f\"{dir_path}/{files[10]}\"\n",
    "file_loaded = pd.read_pickle(path_file_test_global)\n",
    "print(file_loaded)"
   ]
  },
  {
   "cell_type": "code",
   "execution_count": 83,
   "metadata": {},
   "outputs": [],
   "source": [
    "df_file_loaded = pd.DataFrame(file_loaded,columns=['Specie',\n",
    "                                                   'Precision',\n",
    "                                                   'Rappel',\n",
    "                                                   'F-score'])"
   ]
  },
  {
   "cell_type": "code",
   "execution_count": 84,
   "metadata": {},
   "outputs": [
    {
     "data": {
      "text/html": [
       "<div>\n",
       "<style scoped>\n",
       "    .dataframe tbody tr th:only-of-type {\n",
       "        vertical-align: middle;\n",
       "    }\n",
       "\n",
       "    .dataframe tbody tr th {\n",
       "        vertical-align: top;\n",
       "    }\n",
       "\n",
       "    .dataframe thead th {\n",
       "        text-align: right;\n",
       "    }\n",
       "</style>\n",
       "<table border=\"1\" class=\"dataframe\">\n",
       "  <thead>\n",
       "    <tr style=\"text-align: right;\">\n",
       "      <th></th>\n",
       "      <th>Specie</th>\n",
       "      <th>Precision</th>\n",
       "      <th>Rappel</th>\n",
       "      <th>F-score</th>\n",
       "    </tr>\n",
       "  </thead>\n",
       "  <tbody>\n",
       "    <tr>\n",
       "      <th>0</th>\n",
       "      <td>MESCHA</td>\n",
       "      <td>0.914</td>\n",
       "      <td>0.941</td>\n",
       "      <td>0.928</td>\n",
       "    </tr>\n",
       "    <tr>\n",
       "      <th>1</th>\n",
       "      <td>SITTOR</td>\n",
       "      <td>0.000</td>\n",
       "      <td>0.000</td>\n",
       "      <td>0.000</td>\n",
       "    </tr>\n",
       "    <tr>\n",
       "      <th>2</th>\n",
       "      <td>MESBLE</td>\n",
       "      <td>0.750</td>\n",
       "      <td>0.600</td>\n",
       "      <td>0.667</td>\n",
       "    </tr>\n",
       "    <tr>\n",
       "      <th>3</th>\n",
       "      <td>MESNON</td>\n",
       "      <td>0.000</td>\n",
       "      <td>0.000</td>\n",
       "      <td>0.000</td>\n",
       "    </tr>\n",
       "    <tr>\n",
       "      <th>4</th>\n",
       "      <td>PINARB</td>\n",
       "      <td>1.000</td>\n",
       "      <td>0.333</td>\n",
       "      <td>0.500</td>\n",
       "    </tr>\n",
       "    <tr>\n",
       "      <th>5</th>\n",
       "      <td>ACCMOU</td>\n",
       "      <td>0.000</td>\n",
       "      <td>0.000</td>\n",
       "      <td>0.000</td>\n",
       "    </tr>\n",
       "    <tr>\n",
       "      <th>6</th>\n",
       "      <td>ROUGOR</td>\n",
       "      <td>0.000</td>\n",
       "      <td>0.000</td>\n",
       "      <td>0.000</td>\n",
       "    </tr>\n",
       "    <tr>\n",
       "      <th>7</th>\n",
       "      <td>VEREUR</td>\n",
       "      <td>0.917</td>\n",
       "      <td>0.971</td>\n",
       "      <td>0.943</td>\n",
       "    </tr>\n",
       "    <tr>\n",
       "      <th>8</th>\n",
       "      <td>MOIDOM</td>\n",
       "      <td>0.000</td>\n",
       "      <td>0.000</td>\n",
       "      <td>0.000</td>\n",
       "    </tr>\n",
       "    <tr>\n",
       "      <th>9</th>\n",
       "      <td>TOUTUR</td>\n",
       "      <td>0.939</td>\n",
       "      <td>0.795</td>\n",
       "      <td>0.861</td>\n",
       "    </tr>\n",
       "    <tr>\n",
       "      <th>10</th>\n",
       "      <td>ECUROU</td>\n",
       "      <td>0.000</td>\n",
       "      <td>0.000</td>\n",
       "      <td>0.000</td>\n",
       "    </tr>\n",
       "    <tr>\n",
       "      <th>11</th>\n",
       "      <td>PIEBAV</td>\n",
       "      <td>0.000</td>\n",
       "      <td>0.000</td>\n",
       "      <td>0.000</td>\n",
       "    </tr>\n",
       "    <tr>\n",
       "      <th>12</th>\n",
       "      <td>MULGRI</td>\n",
       "      <td>0.000</td>\n",
       "      <td>0.000</td>\n",
       "      <td>0.000</td>\n",
       "    </tr>\n",
       "    <tr>\n",
       "      <th>13</th>\n",
       "      <td>CAMPAG</td>\n",
       "      <td>0.000</td>\n",
       "      <td>0.000</td>\n",
       "      <td>0.000</td>\n",
       "    </tr>\n",
       "    <tr>\n",
       "      <th>14</th>\n",
       "      <td>MESNOI</td>\n",
       "      <td>0.000</td>\n",
       "      <td>0.000</td>\n",
       "      <td>0.000</td>\n",
       "    </tr>\n",
       "    <tr>\n",
       "      <th>15</th>\n",
       "      <td>MESHUP</td>\n",
       "      <td>0.000</td>\n",
       "      <td>0.000</td>\n",
       "      <td>0.000</td>\n",
       "    </tr>\n",
       "  </tbody>\n",
       "</table>\n",
       "</div>"
      ],
      "text/plain": [
       "    Specie  Precision  Rappel  F-score\n",
       "0   MESCHA      0.914   0.941    0.928\n",
       "1   SITTOR      0.000   0.000    0.000\n",
       "2   MESBLE      0.750   0.600    0.667\n",
       "3   MESNON      0.000   0.000    0.000\n",
       "4   PINARB      1.000   0.333    0.500\n",
       "5   ACCMOU      0.000   0.000    0.000\n",
       "6   ROUGOR      0.000   0.000    0.000\n",
       "7   VEREUR      0.917   0.971    0.943\n",
       "8   MOIDOM      0.000   0.000    0.000\n",
       "9   TOUTUR      0.939   0.795    0.861\n",
       "10  ECUROU      0.000   0.000    0.000\n",
       "11  PIEBAV      0.000   0.000    0.000\n",
       "12  MULGRI      0.000   0.000    0.000\n",
       "13  CAMPAG      0.000   0.000    0.000\n",
       "14  MESNOI      0.000   0.000    0.000\n",
       "15  MESHUP      0.000   0.000    0.000"
      ]
     },
     "execution_count": 84,
     "metadata": {},
     "output_type": "execute_result"
    }
   ],
   "source": [
    "df_file_loaded"
   ]
  },
  {
   "cell_type": "code",
   "execution_count": 108,
   "metadata": {},
   "outputs": [],
   "source": [
    "def plot_class_metrics(file_loaded):\n",
    "    i = 0\n",
    "    l = 1\n",
    "    fig, axs = plt.subplots(4, 4,figsize=(15,15))\n",
    "\n",
    "    for class_bird in file_loaded:\n",
    "        plt.subplot(4, 4, l)\n",
    "        names = list(class_bird.keys())\n",
    "        values = list(class_bird.values())\n",
    "        name_class = values[0]\n",
    "        metrics_class = values[1:]\n",
    "        plt.bar(range(len(class_bird)), metrics_class, tick_label=names)\n",
    "        l += 1\n",
    "        plt.title(name_class)\n",
    "        i +=1"
   ]
  },
  {
   "cell_type": "code",
   "execution_count": 109,
   "metadata": {},
   "outputs": [
    {
     "ename": "ValueError",
     "evalue": "shape mismatch: objects cannot be broadcast to a single shape.  Mismatch is between arg 0 with shape (4,) and arg 1 with shape (3,).",
     "output_type": "error",
     "traceback": [
      "\u001b[0;31m---------------------------------------------------------------------------\u001b[0m",
      "\u001b[0;31mValueError\u001b[0m                                Traceback (most recent call last)",
      "\u001b[1;32m/Users/devasou/code/deva-sou/project_ornithoScope/src/notebooks/plot_metrics.ipynb Cell 11'\u001b[0m in \u001b[0;36m<cell line: 1>\u001b[0;34m()\u001b[0m\n\u001b[0;32m----> <a href='vscode-notebook-cell:/Users/devasou/code/deva-sou/project_ornithoScope/src/notebooks/plot_metrics.ipynb#ch0000013?line=0'>1</a>\u001b[0m plot_class_metrics(file_loaded)\n",
      "\u001b[1;32m/Users/devasou/code/deva-sou/project_ornithoScope/src/notebooks/plot_metrics.ipynb Cell 10'\u001b[0m in \u001b[0;36mplot_class_metrics\u001b[0;34m(file_loaded)\u001b[0m\n\u001b[1;32m     <a href='vscode-notebook-cell:/Users/devasou/code/deva-sou/project_ornithoScope/src/notebooks/plot_metrics.ipynb#ch0000012?line=9'>10</a>\u001b[0m name_class \u001b[39m=\u001b[39m values[\u001b[39m0\u001b[39m]\n\u001b[1;32m     <a href='vscode-notebook-cell:/Users/devasou/code/deva-sou/project_ornithoScope/src/notebooks/plot_metrics.ipynb#ch0000012?line=10'>11</a>\u001b[0m metrics_class \u001b[39m=\u001b[39m values[\u001b[39m1\u001b[39m:]\n\u001b[0;32m---> <a href='vscode-notebook-cell:/Users/devasou/code/deva-sou/project_ornithoScope/src/notebooks/plot_metrics.ipynb#ch0000012?line=11'>12</a>\u001b[0m plt\u001b[39m.\u001b[39;49mbar(\u001b[39mrange\u001b[39;49m(\u001b[39mlen\u001b[39;49m(class_bird)), metrics_class, tick_label\u001b[39m=\u001b[39;49mnames)\n\u001b[1;32m     <a href='vscode-notebook-cell:/Users/devasou/code/deva-sou/project_ornithoScope/src/notebooks/plot_metrics.ipynb#ch0000012?line=12'>13</a>\u001b[0m l \u001b[39m+\u001b[39m\u001b[39m=\u001b[39m \u001b[39m1\u001b[39m\n\u001b[1;32m     <a href='vscode-notebook-cell:/Users/devasou/code/deva-sou/project_ornithoScope/src/notebooks/plot_metrics.ipynb#ch0000012?line=13'>14</a>\u001b[0m plt\u001b[39m.\u001b[39mtitle(name_class)\n",
      "File \u001b[0;32m~/code/deva-sou/project_ornithoScope/venv_ornithoscope/lib/python3.9/site-packages/matplotlib/pyplot.py:2387\u001b[0m, in \u001b[0;36mbar\u001b[0;34m(x, height, width, bottom, align, data, **kwargs)\u001b[0m\n\u001b[1;32m   <a href='file:///Users/devasou/code/deva-sou/project_ornithoScope/venv_ornithoscope/lib/python3.9/site-packages/matplotlib/pyplot.py?line=2382'>2383</a>\u001b[0m \u001b[39m@_copy_docstring_and_deprecators\u001b[39m(Axes\u001b[39m.\u001b[39mbar)\n\u001b[1;32m   <a href='file:///Users/devasou/code/deva-sou/project_ornithoScope/venv_ornithoscope/lib/python3.9/site-packages/matplotlib/pyplot.py?line=2383'>2384</a>\u001b[0m \u001b[39mdef\u001b[39;00m \u001b[39mbar\u001b[39m(\n\u001b[1;32m   <a href='file:///Users/devasou/code/deva-sou/project_ornithoScope/venv_ornithoscope/lib/python3.9/site-packages/matplotlib/pyplot.py?line=2384'>2385</a>\u001b[0m         x, height, width\u001b[39m=\u001b[39m\u001b[39m0.8\u001b[39m, bottom\u001b[39m=\u001b[39m\u001b[39mNone\u001b[39;00m, \u001b[39m*\u001b[39m, align\u001b[39m=\u001b[39m\u001b[39m'\u001b[39m\u001b[39mcenter\u001b[39m\u001b[39m'\u001b[39m,\n\u001b[1;32m   <a href='file:///Users/devasou/code/deva-sou/project_ornithoScope/venv_ornithoscope/lib/python3.9/site-packages/matplotlib/pyplot.py?line=2385'>2386</a>\u001b[0m         data\u001b[39m=\u001b[39m\u001b[39mNone\u001b[39;00m, \u001b[39m*\u001b[39m\u001b[39m*\u001b[39mkwargs):\n\u001b[0;32m-> <a href='file:///Users/devasou/code/deva-sou/project_ornithoScope/venv_ornithoscope/lib/python3.9/site-packages/matplotlib/pyplot.py?line=2386'>2387</a>\u001b[0m     \u001b[39mreturn\u001b[39;00m gca()\u001b[39m.\u001b[39;49mbar(\n\u001b[1;32m   <a href='file:///Users/devasou/code/deva-sou/project_ornithoScope/venv_ornithoscope/lib/python3.9/site-packages/matplotlib/pyplot.py?line=2387'>2388</a>\u001b[0m         x, height, width\u001b[39m=\u001b[39;49mwidth, bottom\u001b[39m=\u001b[39;49mbottom, align\u001b[39m=\u001b[39;49malign,\n\u001b[1;32m   <a href='file:///Users/devasou/code/deva-sou/project_ornithoScope/venv_ornithoscope/lib/python3.9/site-packages/matplotlib/pyplot.py?line=2388'>2389</a>\u001b[0m         \u001b[39m*\u001b[39;49m\u001b[39m*\u001b[39;49m({\u001b[39m\"\u001b[39;49m\u001b[39mdata\u001b[39;49m\u001b[39m\"\u001b[39;49m: data} \u001b[39mif\u001b[39;49;00m data \u001b[39mis\u001b[39;49;00m \u001b[39mnot\u001b[39;49;00m \u001b[39mNone\u001b[39;49;00m \u001b[39melse\u001b[39;49;00m {}), \u001b[39m*\u001b[39;49m\u001b[39m*\u001b[39;49mkwargs)\n",
      "File \u001b[0;32m~/code/deva-sou/project_ornithoScope/venv_ornithoscope/lib/python3.9/site-packages/matplotlib/__init__.py:1412\u001b[0m, in \u001b[0;36m_preprocess_data.<locals>.inner\u001b[0;34m(ax, data, *args, **kwargs)\u001b[0m\n\u001b[1;32m   <a href='file:///Users/devasou/code/deva-sou/project_ornithoScope/venv_ornithoscope/lib/python3.9/site-packages/matplotlib/__init__.py?line=1408'>1409</a>\u001b[0m \u001b[39m@functools\u001b[39m\u001b[39m.\u001b[39mwraps(func)\n\u001b[1;32m   <a href='file:///Users/devasou/code/deva-sou/project_ornithoScope/venv_ornithoscope/lib/python3.9/site-packages/matplotlib/__init__.py?line=1409'>1410</a>\u001b[0m \u001b[39mdef\u001b[39;00m \u001b[39minner\u001b[39m(ax, \u001b[39m*\u001b[39margs, data\u001b[39m=\u001b[39m\u001b[39mNone\u001b[39;00m, \u001b[39m*\u001b[39m\u001b[39m*\u001b[39mkwargs):\n\u001b[1;32m   <a href='file:///Users/devasou/code/deva-sou/project_ornithoScope/venv_ornithoscope/lib/python3.9/site-packages/matplotlib/__init__.py?line=1410'>1411</a>\u001b[0m     \u001b[39mif\u001b[39;00m data \u001b[39mis\u001b[39;00m \u001b[39mNone\u001b[39;00m:\n\u001b[0;32m-> <a href='file:///Users/devasou/code/deva-sou/project_ornithoScope/venv_ornithoscope/lib/python3.9/site-packages/matplotlib/__init__.py?line=1411'>1412</a>\u001b[0m         \u001b[39mreturn\u001b[39;00m func(ax, \u001b[39m*\u001b[39;49m\u001b[39mmap\u001b[39;49m(sanitize_sequence, args), \u001b[39m*\u001b[39;49m\u001b[39m*\u001b[39;49mkwargs)\n\u001b[1;32m   <a href='file:///Users/devasou/code/deva-sou/project_ornithoScope/venv_ornithoscope/lib/python3.9/site-packages/matplotlib/__init__.py?line=1413'>1414</a>\u001b[0m     bound \u001b[39m=\u001b[39m new_sig\u001b[39m.\u001b[39mbind(ax, \u001b[39m*\u001b[39margs, \u001b[39m*\u001b[39m\u001b[39m*\u001b[39mkwargs)\n\u001b[1;32m   <a href='file:///Users/devasou/code/deva-sou/project_ornithoScope/venv_ornithoscope/lib/python3.9/site-packages/matplotlib/__init__.py?line=1414'>1415</a>\u001b[0m     auto_label \u001b[39m=\u001b[39m (bound\u001b[39m.\u001b[39marguments\u001b[39m.\u001b[39mget(label_namer)\n\u001b[1;32m   <a href='file:///Users/devasou/code/deva-sou/project_ornithoScope/venv_ornithoscope/lib/python3.9/site-packages/matplotlib/__init__.py?line=1415'>1416</a>\u001b[0m                   \u001b[39mor\u001b[39;00m bound\u001b[39m.\u001b[39mkwargs\u001b[39m.\u001b[39mget(label_namer))\n",
      "File \u001b[0;32m~/code/deva-sou/project_ornithoScope/venv_ornithoscope/lib/python3.9/site-packages/matplotlib/axes/_axes.py:2342\u001b[0m, in \u001b[0;36mAxes.bar\u001b[0;34m(self, x, height, width, bottom, align, **kwargs)\u001b[0m\n\u001b[1;32m   <a href='file:///Users/devasou/code/deva-sou/project_ornithoScope/venv_ornithoscope/lib/python3.9/site-packages/matplotlib/axes/_axes.py?line=2338'>2339</a>\u001b[0m     \u001b[39mif\u001b[39;00m yerr \u001b[39mis\u001b[39;00m \u001b[39mnot\u001b[39;00m \u001b[39mNone\u001b[39;00m:\n\u001b[1;32m   <a href='file:///Users/devasou/code/deva-sou/project_ornithoScope/venv_ornithoscope/lib/python3.9/site-packages/matplotlib/axes/_axes.py?line=2339'>2340</a>\u001b[0m         yerr \u001b[39m=\u001b[39m \u001b[39mself\u001b[39m\u001b[39m.\u001b[39m_convert_dx(yerr, y0, y, \u001b[39mself\u001b[39m\u001b[39m.\u001b[39mconvert_yunits)\n\u001b[0;32m-> <a href='file:///Users/devasou/code/deva-sou/project_ornithoScope/venv_ornithoscope/lib/python3.9/site-packages/matplotlib/axes/_axes.py?line=2341'>2342</a>\u001b[0m x, height, width, y, linewidth, hatch \u001b[39m=\u001b[39m np\u001b[39m.\u001b[39;49mbroadcast_arrays(\n\u001b[1;32m   <a href='file:///Users/devasou/code/deva-sou/project_ornithoScope/venv_ornithoscope/lib/python3.9/site-packages/matplotlib/axes/_axes.py?line=2342'>2343</a>\u001b[0m     \u001b[39m# Make args iterable too.\u001b[39;49;00m\n\u001b[1;32m   <a href='file:///Users/devasou/code/deva-sou/project_ornithoScope/venv_ornithoscope/lib/python3.9/site-packages/matplotlib/axes/_axes.py?line=2343'>2344</a>\u001b[0m     np\u001b[39m.\u001b[39;49matleast_1d(x), height, width, y, linewidth, hatch)\n\u001b[1;32m   <a href='file:///Users/devasou/code/deva-sou/project_ornithoScope/venv_ornithoscope/lib/python3.9/site-packages/matplotlib/axes/_axes.py?line=2345'>2346</a>\u001b[0m \u001b[39m# Now that units have been converted, set the tick locations.\u001b[39;00m\n\u001b[1;32m   <a href='file:///Users/devasou/code/deva-sou/project_ornithoScope/venv_ornithoscope/lib/python3.9/site-packages/matplotlib/axes/_axes.py?line=2346'>2347</a>\u001b[0m \u001b[39mif\u001b[39;00m orientation \u001b[39m==\u001b[39m \u001b[39m'\u001b[39m\u001b[39mvertical\u001b[39m\u001b[39m'\u001b[39m:\n",
      "File \u001b[0;32m<__array_function__ internals>:180\u001b[0m, in \u001b[0;36mbroadcast_arrays\u001b[0;34m(*args, **kwargs)\u001b[0m\n",
      "File \u001b[0;32m~/code/deva-sou/project_ornithoScope/venv_ornithoscope/lib/python3.9/site-packages/numpy/lib/stride_tricks.py:539\u001b[0m, in \u001b[0;36mbroadcast_arrays\u001b[0;34m(subok, *args)\u001b[0m\n\u001b[1;32m    <a href='file:///Users/devasou/code/deva-sou/project_ornithoScope/venv_ornithoscope/lib/python3.9/site-packages/numpy/lib/stride_tricks.py?line=531'>532</a>\u001b[0m \u001b[39m# nditer is not used here to avoid the limit of 32 arrays.\u001b[39;00m\n\u001b[1;32m    <a href='file:///Users/devasou/code/deva-sou/project_ornithoScope/venv_ornithoscope/lib/python3.9/site-packages/numpy/lib/stride_tricks.py?line=532'>533</a>\u001b[0m \u001b[39m# Otherwise, something like the following one-liner would suffice:\u001b[39;00m\n\u001b[1;32m    <a href='file:///Users/devasou/code/deva-sou/project_ornithoScope/venv_ornithoscope/lib/python3.9/site-packages/numpy/lib/stride_tricks.py?line=533'>534</a>\u001b[0m \u001b[39m# return np.nditer(args, flags=['multi_index', 'zerosize_ok'],\u001b[39;00m\n\u001b[1;32m    <a href='file:///Users/devasou/code/deva-sou/project_ornithoScope/venv_ornithoscope/lib/python3.9/site-packages/numpy/lib/stride_tricks.py?line=534'>535</a>\u001b[0m \u001b[39m#                  order='C').itviews\u001b[39;00m\n\u001b[1;32m    <a href='file:///Users/devasou/code/deva-sou/project_ornithoScope/venv_ornithoscope/lib/python3.9/site-packages/numpy/lib/stride_tricks.py?line=536'>537</a>\u001b[0m args \u001b[39m=\u001b[39m [np\u001b[39m.\u001b[39marray(_m, copy\u001b[39m=\u001b[39m\u001b[39mFalse\u001b[39;00m, subok\u001b[39m=\u001b[39msubok) \u001b[39mfor\u001b[39;00m _m \u001b[39min\u001b[39;00m args]\n\u001b[0;32m--> <a href='file:///Users/devasou/code/deva-sou/project_ornithoScope/venv_ornithoscope/lib/python3.9/site-packages/numpy/lib/stride_tricks.py?line=538'>539</a>\u001b[0m shape \u001b[39m=\u001b[39m _broadcast_shape(\u001b[39m*\u001b[39;49margs)\n\u001b[1;32m    <a href='file:///Users/devasou/code/deva-sou/project_ornithoScope/venv_ornithoscope/lib/python3.9/site-packages/numpy/lib/stride_tricks.py?line=540'>541</a>\u001b[0m \u001b[39mif\u001b[39;00m \u001b[39mall\u001b[39m(array\u001b[39m.\u001b[39mshape \u001b[39m==\u001b[39m shape \u001b[39mfor\u001b[39;00m array \u001b[39min\u001b[39;00m args):\n\u001b[1;32m    <a href='file:///Users/devasou/code/deva-sou/project_ornithoScope/venv_ornithoscope/lib/python3.9/site-packages/numpy/lib/stride_tricks.py?line=541'>542</a>\u001b[0m     \u001b[39m# Common case where nothing needs to be broadcasted.\u001b[39;00m\n\u001b[1;32m    <a href='file:///Users/devasou/code/deva-sou/project_ornithoScope/venv_ornithoscope/lib/python3.9/site-packages/numpy/lib/stride_tricks.py?line=542'>543</a>\u001b[0m     \u001b[39mreturn\u001b[39;00m args\n",
      "File \u001b[0;32m~/code/deva-sou/project_ornithoScope/venv_ornithoscope/lib/python3.9/site-packages/numpy/lib/stride_tricks.py:421\u001b[0m, in \u001b[0;36m_broadcast_shape\u001b[0;34m(*args)\u001b[0m\n\u001b[1;32m    <a href='file:///Users/devasou/code/deva-sou/project_ornithoScope/venv_ornithoscope/lib/python3.9/site-packages/numpy/lib/stride_tricks.py?line=415'>416</a>\u001b[0m \u001b[39m\"\"\"Returns the shape of the arrays that would result from broadcasting the\u001b[39;00m\n\u001b[1;32m    <a href='file:///Users/devasou/code/deva-sou/project_ornithoScope/venv_ornithoscope/lib/python3.9/site-packages/numpy/lib/stride_tricks.py?line=416'>417</a>\u001b[0m \u001b[39msupplied arrays against each other.\u001b[39;00m\n\u001b[1;32m    <a href='file:///Users/devasou/code/deva-sou/project_ornithoScope/venv_ornithoscope/lib/python3.9/site-packages/numpy/lib/stride_tricks.py?line=417'>418</a>\u001b[0m \u001b[39m\"\"\"\u001b[39;00m\n\u001b[1;32m    <a href='file:///Users/devasou/code/deva-sou/project_ornithoScope/venv_ornithoscope/lib/python3.9/site-packages/numpy/lib/stride_tricks.py?line=418'>419</a>\u001b[0m \u001b[39m# use the old-iterator because np.nditer does not handle size 0 arrays\u001b[39;00m\n\u001b[1;32m    <a href='file:///Users/devasou/code/deva-sou/project_ornithoScope/venv_ornithoscope/lib/python3.9/site-packages/numpy/lib/stride_tricks.py?line=419'>420</a>\u001b[0m \u001b[39m# consistently\u001b[39;00m\n\u001b[0;32m--> <a href='file:///Users/devasou/code/deva-sou/project_ornithoScope/venv_ornithoscope/lib/python3.9/site-packages/numpy/lib/stride_tricks.py?line=420'>421</a>\u001b[0m b \u001b[39m=\u001b[39m np\u001b[39m.\u001b[39;49mbroadcast(\u001b[39m*\u001b[39;49margs[:\u001b[39m32\u001b[39;49m])\n\u001b[1;32m    <a href='file:///Users/devasou/code/deva-sou/project_ornithoScope/venv_ornithoscope/lib/python3.9/site-packages/numpy/lib/stride_tricks.py?line=421'>422</a>\u001b[0m \u001b[39m# unfortunately, it cannot handle 32 or more arguments directly\u001b[39;00m\n\u001b[1;32m    <a href='file:///Users/devasou/code/deva-sou/project_ornithoScope/venv_ornithoscope/lib/python3.9/site-packages/numpy/lib/stride_tricks.py?line=422'>423</a>\u001b[0m \u001b[39mfor\u001b[39;00m pos \u001b[39min\u001b[39;00m \u001b[39mrange\u001b[39m(\u001b[39m32\u001b[39m, \u001b[39mlen\u001b[39m(args), \u001b[39m31\u001b[39m):\n\u001b[1;32m    <a href='file:///Users/devasou/code/deva-sou/project_ornithoScope/venv_ornithoscope/lib/python3.9/site-packages/numpy/lib/stride_tricks.py?line=423'>424</a>\u001b[0m     \u001b[39m# ironically, np.broadcast does not properly handle np.broadcast\u001b[39;00m\n\u001b[1;32m    <a href='file:///Users/devasou/code/deva-sou/project_ornithoScope/venv_ornithoscope/lib/python3.9/site-packages/numpy/lib/stride_tricks.py?line=424'>425</a>\u001b[0m     \u001b[39m# objects (it treats them as scalars)\u001b[39;00m\n\u001b[1;32m    <a href='file:///Users/devasou/code/deva-sou/project_ornithoScope/venv_ornithoscope/lib/python3.9/site-packages/numpy/lib/stride_tricks.py?line=425'>426</a>\u001b[0m     \u001b[39m# use broadcasting to avoid allocating the full array\u001b[39;00m\n",
      "\u001b[0;31mValueError\u001b[0m: shape mismatch: objects cannot be broadcast to a single shape.  Mismatch is between arg 0 with shape (4,) and arg 1 with shape (3,)."
     ]
    },
    {
     "data": {
      "image/png": "[encoded data removed]",
      "text/plain": [
       "<Figure size 1080x1080 with 16 Axes>"
      ]
     },
     "metadata": {
      "needs_background": "light"
     },
     "output_type": "display_data"
    }
   ],
   "source": [
    "plot_class_metrics(file_loaded)"
   ]
  },
  {
   "cell_type": "code",
   "execution_count": null,
   "metadata": {},
   "outputs": [],
   "source": []
  }
 ],
 "metadata": {
  "interpreter": {
   "hash": "71c72a2a768f5ed09507e54b734ecb6d6c0196a30eab5b46f8654a45ecbbc370"
  },
  "kernelspec": {
   "display_name": "Python 3.9.7 ('venv_ornithoscope': venv)",
   "language": "python",
   "name": "python3"
  },
  "language_info": {
   "codemirror_mode": {
    "name": "ipython",
    "version": 3
   },
   "file_extension": ".py",
   "mimetype": "text/x-python",
   "name": "python",
   "nbconvert_exporter": "python",
   "pygments_lexer": "ipython3",
   "version": "3.9.7"
  },
  "orig_nbformat": 4
 },
 "nbformat": 4,
 "nbformat_minor": 2
}
