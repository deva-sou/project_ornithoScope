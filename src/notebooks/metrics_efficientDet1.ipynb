{
 "cells": [
  {
   "cell_type": "markdown",
   "metadata": {},
   "source": [
    "# IMPORTS ET KILL DE KERNEL"
   ]
  },
  {
   "cell_type": "code",
   "execution_count": 6,
   "metadata": {},
   "outputs": [],
   "source": [
    "# kill the kernel to release gpu performances\n",
    "# pid = os.getpid()\n",
    "# !kill -9 $pid"
   ]
  },
  {
   "cell_type": "code",
   "execution_count": 7,
   "metadata": {},
   "outputs": [],
   "source": [
    "# imports\n",
    "import numpy as np\n",
    "import os\n",
    "import os.path\n",
    "import pandas as pd\n",
    "pd.options.display.max_colwidth = 100\n",
    "import cv2\n",
    "import tensorflow as tf\n",
    "import pickle\n",
    "import copy\n",
    "from PIL import Image, ImageDraw\n",
    "import matplotlib.pyplot as plt"
   ]
  },
  {
   "cell_type": "markdown",
   "metadata": {},
   "source": [
    "# VARIABLES"
   ]
  },
  {
   "cell_type": "code",
   "execution_count": 8,
   "metadata": {},
   "outputs": [],
   "source": [
    "# definitions des variables\n",
    "model_path = '/home/acarlier/code/OrnithoScope/saved_models/model_efficientDet1.tflite'\n",
    "input_csv_path = '/home/acarlier/code/OrnithoScope/data/csv/input.csv'\n",
    "columns_names = [\"split_value\", \"file_path\", \"label\",\n",
    "                      \"x_min\", \"y_min\", \"empty_1\", \"empty_2\",\n",
    "                      \"x_max\", \"y_max\", \"empty_3\"]\n",
    "output_images_directory = '/home/acarlier/code/data_ornitho/output_images/test_pickle/'\n",
    "comparaison_images_directory = '/home/acarlier/code/data_ornitho/comparaison_verite_terrain/comparaison_efficientDet1/'\n"
   ]
  },
  {
   "cell_type": "markdown",
   "metadata": {},
   "source": [
    "# FUNCTIONS"
   ]
  },
  {
   "cell_type": "code",
   "execution_count": 9,
   "metadata": {},
   "outputs": [],
   "source": [
    "#@title Load the trained TFLite model and define some visualization functions\n",
    "\n",
    "def get_classes_from_input():\n",
    "    input = pd.read_csv(input_csv_path, names = columns_names)\n",
    "    return input[\"label\"].unique().tolist()\n",
    "\n",
    "# Load the labels into a list\n",
    "classes = get_classes_from_input()\n",
    "# Define a list of colors for visualization\n",
    "COLORS = np.random.randint(0, 255, size=(len(classes), 3), dtype=np.uint8)\n",
    "\n",
    "def preprocess_image(image_path, input_size):\n",
    "  \"\"\"Preprocess the input image to feed to the TFLite model\"\"\"\n",
    "  img = tf.io.read_file(image_path)\n",
    "  img = tf.io.decode_image(img, channels=3)\n",
    "  img = tf.image.convert_image_dtype(img, tf.uint8)\n",
    "  original_image = img\n",
    "  resized_img = tf.image.resize(img, input_size)\n",
    "  resized_img = resized_img[tf.newaxis, :]\n",
    "  resized_img = tf.cast(resized_img, dtype=tf.uint8)\n",
    "  #print(tf.shape(resized_img))\n",
    "  return resized_img, original_image\n",
    "\n",
    "def preprocess_images(image_paths, input_size):\n",
    "  \"\"\"Preprocess the input image to feed to the TFLite model\"\"\"\n",
    "  img = tf.io.read_file(image_paths[0])\n",
    "  img = tf.io.decode_image(img, channels=3)\n",
    "  img = tf.image.convert_image_dtype(img, tf.uint8)\n",
    "  resized_img = tf.image.resize(img, input_size)\n",
    "  resized_img = resized_img[tf.newaxis, :]\n",
    "  resized_img = tf.cast(resized_img, dtype=tf.uint8)\n",
    "  \n",
    "  resized_imgs = resized_img\n",
    "  \n",
    "  for i in range(1,len(image_paths)):\n",
    "    img = tf.io.read_file(image_paths[i])\n",
    "    img = tf.io.decode_image(img, channels=3)\n",
    "    img = tf.image.convert_image_dtype(img, tf.uint8)\n",
    "    resized_img = tf.image.resize(img, input_size)\n",
    "    resized_img = resized_img[tf.newaxis, :]\n",
    "    resized_img = tf.cast(resized_img, dtype=tf.uint8)\n",
    "    \n",
    "    resized_imgs = tf.concat([resized_imgs, resized_img], axis=0)\n",
    "    #print(tf.shape(resized_imgs))\n",
    "    \n",
    "  return resized_imgs\n",
    "\n",
    "\n",
    "def detect_objects(interpreter, image, threshold):\n",
    "  \"\"\"Returns a list of detection results, each a dictionary of object info.\"\"\"\n",
    "\n",
    "  signature_fn = interpreter.get_signature_runner()\n",
    "  #print(\"avant modèle\")\n",
    "  # Feed the input image to the model\n",
    "  output = signature_fn(images=image)\n",
    "  #interpreter.set_tensor(0, image)\n",
    "  #interpreter.invoke()\n",
    "  #print(\"après modèle\")\n",
    "  \n",
    "  # Get all outputs from the model\n",
    "  count = int(np.squeeze(output['output_0']))\n",
    "  scores = np.squeeze(output['output_1'])\n",
    "  classes = np.squeeze(output['output_2'])\n",
    "  boxes = np.squeeze(output['output_3'])\n",
    "\n",
    "  results = []\n",
    "  for i in range(count):\n",
    "    if scores[i] >= threshold:\n",
    "      result = {\n",
    "        'bounding_box': boxes[i],\n",
    "        'class_id': classes[i],\n",
    "        'score': scores[i]\n",
    "      }\n",
    "      results.append(result)\n",
    "  return results\n",
    "\n",
    "\n",
    "def run_odt_and_draw_results(image_path, interpreter, threshold=0.5):\n",
    "  \"\"\"Run object detection on the input image and draw the detection results\"\"\"\n",
    "  # Load the input shape required by the model\n",
    "  _, input_height, input_width, _ = interpreter.get_input_details()[0]['shape']\n",
    "  print(input_height, input_width)\n",
    "  #print(\"interpreter\")\n",
    "  \n",
    "  # Load the input image and preprocess it\n",
    "  preprocessed_image, _ = preprocess_image(\n",
    "      image_path,\n",
    "      (input_height, input_width)\n",
    "    )\n",
    "  #print(\"preprocessing\")\n",
    "  \n",
    "  # Run object detection on the input image\n",
    "  results = detect_objects(interpreter, preprocessed_image, threshold=threshold)\n",
    "  #print(\"detection\")\n",
    "  \n",
    "  if 0:\n",
    "    # Plot the detection results on the input image\n",
    "    original_image_np = original_image.numpy().astype(np.uint8)\n",
    "    for obj in results:\n",
    "      # Convert the object bounding box from relative coordinates to absolute\n",
    "      # coordinates based on the original image resolution\n",
    "      ymin, xmin, ymax, xmax = obj['bounding_box']\n",
    "      xmin = int(xmin * original_image_np.shape[1])\n",
    "      xmax = int(xmax * original_image_np.shape[1])\n",
    "      ymin = int(ymin * original_image_np.shape[0])\n",
    "      ymax = int(ymax * original_image_np.shape[0])\n",
    "\n",
    "      # Find the class index of the current object\n",
    "      class_id = int(obj['class_id'])\n",
    "\n",
    "      # Draw the bounding box and label on the image\n",
    "      color = [int(c) for c in COLORS[class_id]]\n",
    "      cv2.rectangle(original_image_np, (xmin, ymin), (xmax, ymax), color, 2)\n",
    "      # Make adjustments to make the label visible for all objects\n",
    "      y = ymin - 15 if ymin - 15 > 15 else ymin + 15\n",
    "      label = \"{}: {:.0f}%\".format(classes[class_id], obj['score'] * 100)\n",
    "      cv2.putText(original_image_np, label, (xmin, y),\n",
    "          cv2.FONT_HERSHEY_SIMPLEX, 0.5, color, 2)\n",
    "\n",
    "    # Return the final image\n",
    "    original_uint8 = original_image_np.astype(np.uint8)\n",
    "  original_uint8 = None  \n",
    "  return original_uint8, results"
   ]
  },
  {
   "cell_type": "markdown",
   "metadata": {},
   "source": [
    "# Génération des prédictions"
   ]
  },
  {
   "cell_type": "code",
   "execution_count": 10,
   "metadata": {},
   "outputs": [
    {
     "name": "stdout",
     "output_type": "stream",
     "text": [
      "/home/acarlier/OrnithoMate/p0133_bird_data/raw_data/task_2021-03-01_09/20210301-090002_(13.0).jpg\n",
      "3516\n"
     ]
    }
   ],
   "source": [
    "# get unique test images as a df\n",
    "def get_test_images():\n",
    "    input = pd.read_csv(input_csv_path, names = columns_names)\n",
    "    test_dataset = input.loc[input['split_value'] == 'TEST']\n",
    "    list_image_test = test_dataset[\"file_path\"].unique().tolist() # return all unique file_path to test, no prediction on two same image\n",
    "    return list_image_test\n",
    "loi = get_test_images()\n",
    "print(loi[0])\n",
    "print(len(loi))"
   ]
  },
  {
   "cell_type": "code",
   "execution_count": 11,
   "metadata": {},
   "outputs": [],
   "source": [
    "# get predictions from model\n",
    "def prediction_test_dataset():\n",
    "    results = []\n",
    "    list_of_images = get_test_images()\n",
    "    interpreter = tf.lite.Interpreter(model_path=model_path)\n",
    "    interpreter.allocate_tensors()\n",
    "    #list_of_images = ['/home/acarlier/code/test/2021-06-11-13-44-43.jpg']\n",
    "    # Load the TFLite model\n",
    "    print(len(list_of_images),' to predict')\n",
    "    for img in list_of_images:\n",
    "        if list_of_images.index(img)%100 == 0:\n",
    "            print(list_of_images.index(img))\n",
    "        img_name = img.split('/')[-1]\n",
    "        file_path = '{}{}'.format(output_images_directory, img_name)\n",
    "        if os.path.exists(file_path):\n",
    "            list_of_images.remove(img)\n",
    "            #print(len(list_of_images),' remaining')\n",
    "        else:\n",
    "            INPUT_IMAGE_URL = img #@param {type:\"string\"}\n",
    "            DETECTION_THRESHOLD = 0.3 #@param {type:\"number\"}\n",
    "            TEMP_FILE = img\n",
    "            FILE_NAME = TEMP_FILE.split(\"/\")[-1]\n",
    "            #print('test1.2 : ok')\n",
    "            #!wget -q -O $TEMP_FILE $INPUT_IMAGE_URL\n",
    "            #!wget -q -O $INPUT_IMAGE_URL\n",
    "            #print('test1.3 : ok')\n",
    "            try:\n",
    "                with open(TEMP_FILE) as file:\n",
    "                    #im = Image.open(TEMP_FILE)\n",
    "                    #im.thumbnail((512, 512), Image.ANTIALIAS)\n",
    "                    #im.save(TEMP_FILE, 'JPEG')\n",
    "                    # Run inference and draw detection result on the local copy of the original file\n",
    "                    detection_result_image, result = run_odt_and_draw_results(\n",
    "                        TEMP_FILE,\n",
    "                        interpreter,\n",
    "                        threshold=DETECTION_THRESHOLD\n",
    "                    )\n",
    "                    results.append(result)\n",
    "                    # Show the detection result\n",
    "                    #Image.fromarray(detection_result_image)\n",
    "                    #result = Image.fromarray(detection_result_image)\n",
    "                    #result.save(\"{}{}\".format(output_images_directory, FILE_NAME), 'JPEG')\n",
    "                    #result.show()\n",
    "            except OSError as e:\n",
    "                print(e.errno)\n",
    "    return results"
   ]
  },
  {
   "cell_type": "code",
   "execution_count": 12,
   "metadata": {},
   "outputs": [],
   "source": [
    "# get predictions with batchs\n",
    "def batched_prediction_test_dataset(batch_size):\n",
    "    results = []\n",
    "    list_of_images = get_test_images()\n",
    "    interpreter = tf.lite.Interpreter(model_path=model_path)\n",
    "    interpreter.allocate_tensors()\n",
    "    #list_of_images = ['/home/acarlier/code/test/2021-06-11-13-44-43.jpg']\n",
    "    # Load the TFLite model\n",
    "    print(len(list_of_images),' to predict')\n",
    "    for i in range(0, len(list_of_images), batch_size):\n",
    "        \n",
    "        images = list_of_images[i*batch_size:(i+1)*batch_size]\n",
    "\n",
    "        DETECTION_THRESHOLD = 0.3 #@param {type:\"number\"}\n",
    "        detection_result_image, result = run_odt_and_draw_results(\n",
    "            images,\n",
    "            interpreter,\n",
    "            threshold=DETECTION_THRESHOLD\n",
    "        )\n",
    "        results.append(result)\n",
    "\n",
    "            \n",
    "    return results"
   ]
  },
  {
   "cell_type": "code",
   "execution_count": 13,
   "metadata": {},
   "outputs": [
    {
     "name": "stdout",
     "output_type": "stream",
     "text": [
      "3516\n",
      "['MESCHA', 'SITTOR', 'MESBLE', 'MESNON', 'PINARB', 'ACCMOU', 'ROUGOR', 'VEREUR', 'MOIDOM', 'TOUTUR', 'ECUROU', 'PIEBAV', 'MULGRI', 'CAMPAG', 'MESNOI', 'MESHUP']\n"
     ]
    },
    {
     "data": {
      "text/plain": [
       "[{'bounding_box': array([0.08540744, 0.25474447, 0.68958795, 0.4716437 ], dtype=float32),\n",
       "  'class_id': 7.0,\n",
       "  'score': 0.6484375}]"
      ]
     },
     "execution_count": 13,
     "metadata": {},
     "output_type": "execute_result"
    }
   ],
   "source": [
    "# generate or load prediction results with pickles\n",
    "#results_predictions = prediction_test_dataset()\n",
    "#lts_predictions = prediction_test_dataset()\n",
    "#pickle.dump(results_predictions, open( \"/home/acarlier/code/OrnithoScope/saved_models/results_test.p\", \"wb\" ) )\n",
    "results_predictions = pickle.load( open( \"/home/acarlier/code/OrnithoScope/saved_models/results_EfficientDet1.p\", \"rb\" ) )\n",
    "classes = get_classes_from_input()\n",
    "print(len(results_predictions))\n",
    "print(classes)\n",
    "results_predictions[0]"
   ]
  },
  {
   "cell_type": "markdown",
   "metadata": {},
   "source": [
    "# Préparation pour le calcul des precision recall"
   ]
  },
  {
   "cell_type": "markdown",
   "metadata": {},
   "source": [
    "## Avoir la liste des labels prédits"
   ]
  },
  {
   "cell_type": "markdown",
   "metadata": {},
   "source": [
    "### Conversion de l'id en nom"
   ]
  },
  {
   "cell_type": "code",
   "execution_count": 14,
   "metadata": {},
   "outputs": [],
   "source": [
    "# fonction de convertions de l'id en nom\n",
    "def convert_id_to_label_name(list_of_results,list_of_classes):\n",
    "    results = copy.deepcopy(list_of_results)\n",
    "    for i in range(len(results)):\n",
    "        for result in results[i]:\n",
    "            id = int(result['class_id'])\n",
    "            result['class_id'] = list_of_classes[id]\n",
    "    return results"
   ]
  },
  {
   "cell_type": "code",
   "execution_count": 15,
   "metadata": {},
   "outputs": [],
   "source": [
    "results_converted = convert_id_to_label_name(results_predictions, classes)"
   ]
  },
  {
   "cell_type": "code",
   "execution_count": 16,
   "metadata": {},
   "outputs": [
    {
     "name": "stdout",
     "output_type": "stream",
     "text": [
      "['MESCHA', 'SITTOR', 'MESBLE', 'MESNON', 'PINARB', 'ACCMOU', 'ROUGOR', 'VEREUR', 'MOIDOM', 'TOUTUR', 'ECUROU', 'PIEBAV', 'MULGRI', 'CAMPAG', 'MESNOI', 'MESHUP']\n",
      "Before  [[{'bounding_box': array([0.08540744, 0.25474447, 0.68958795, 0.4716437 ], dtype=float32), 'class_id': 7.0, 'score': 0.6484375}], [{'bounding_box': array([0.4092438, 0.5277908, 1.0296512, 0.7281122], dtype=float32), 'class_id': 0.0, 'score': 0.375}]]\n",
      "After  [[{'bounding_box': array([0.08540744, 0.25474447, 0.68958795, 0.4716437 ], dtype=float32), 'class_id': 'VEREUR', 'score': 0.6484375}], [{'bounding_box': array([0.4092438, 0.5277908, 1.0296512, 0.7281122], dtype=float32), 'class_id': 'MESCHA', 'score': 0.375}], [{'bounding_box': array([0.5509056, 0.5129066, 0.9888495, 0.9870934], dtype=float32), 'class_id': 'MESCHA', 'score': 0.9296875}], [{'bounding_box': array([0.39843464, 0.30333823, 0.6451436 , 0.5669474 ], dtype=float32), 'class_id': 'VEREUR', 'score': 0.84765625}]]\n"
     ]
    }
   ],
   "source": [
    "print(classes)\n",
    "print(\"Before \",results_predictions[:2])\n",
    "print(\"After \",results_converted[:4])"
   ]
  },
  {
   "cell_type": "code",
   "execution_count": 17,
   "metadata": {},
   "outputs": [],
   "source": [
    "# fonction de récupération de la liste des labels depuis les prédictions\n",
    "def get_list_of_label_from_prediction(list_of_results):\n",
    "    results = copy.deepcopy(list_of_results)\n",
    "    l_final = []\n",
    "    for i in range(len(results)):\n",
    "        l = []\n",
    "        for result in results[i]:\n",
    "            label = result['class_id']\n",
    "            l.append(label)\n",
    "        l_final.append(l)\n",
    "    return l_final"
   ]
  },
  {
   "cell_type": "code",
   "execution_count": 18,
   "metadata": {},
   "outputs": [
    {
     "name": "stdout",
     "output_type": "stream",
     "text": [
      "['VEREUR']\n"
     ]
    }
   ],
   "source": [
    "list_of_label_from_prediction = get_list_of_label_from_prediction(results_converted)\n",
    "print(list_of_label_from_prediction[0])"
   ]
  },
  {
   "cell_type": "markdown",
   "metadata": {},
   "source": [
    "## Avoir la liste de labels issus de la vérité terrain"
   ]
  },
  {
   "cell_type": "code",
   "execution_count": 19,
   "metadata": {},
   "outputs": [],
   "source": [
    "# fonction qui génère le df clean et filtré de la vérité terrain\n",
    "def generate_input_df(path_csv_input, columns_names): \n",
    "    df_input = pd.read_csv(path_csv_input, names = columns_names)\n",
    "    df_input_test = df_input[df_input[\"split_value\"] == 'TEST']\n",
    "    print(\"From \",df_input_test.shape[0])\n",
    "    print(\"to \",len(df_input_test['file_path'].unique()))\n",
    "    return df_input_test"
   ]
  },
  {
   "cell_type": "code",
   "execution_count": 20,
   "metadata": {},
   "outputs": [],
   "source": [
    "# fonction regroupant les observations vérité terrain par image\n",
    "def df_groupby_filepath(df_input_test):\n",
    "    df_test = copy.deepcopy(df_input_test)\n",
    "    df_test = df_test[['file_path','label']]\n",
    "    #df_test = df_test.groupby('file_path')\n",
    "    #df_test.groupby('file_path')['label'].apply(lambda x: \"[%s]\" % ', '.join(x))\n",
    "    df = df_test.groupby(['file_path'], sort=False)['label'].apply(lambda x: list(x)).to_frame().reset_index()\n",
    "    #\"%s\" % ', '.join(x)\n",
    "    return df"
   ]
  },
  {
   "cell_type": "code",
   "execution_count": 21,
   "metadata": {},
   "outputs": [
    {
     "name": "stdout",
     "output_type": "stream",
     "text": [
      "From  3771\n",
      "to  3516\n"
     ]
    },
    {
     "data": {
      "text/html": [
       "<div>\n",
       "<style scoped>\n",
       "    .dataframe tbody tr th:only-of-type {\n",
       "        vertical-align: middle;\n",
       "    }\n",
       "\n",
       "    .dataframe tbody tr th {\n",
       "        vertical-align: top;\n",
       "    }\n",
       "\n",
       "    .dataframe thead th {\n",
       "        text-align: right;\n",
       "    }\n",
       "</style>\n",
       "<table border=\"1\" class=\"dataframe\">\n",
       "  <thead>\n",
       "    <tr style=\"text-align: right;\">\n",
       "      <th></th>\n",
       "      <th>file_path</th>\n",
       "      <th>label</th>\n",
       "    </tr>\n",
       "  </thead>\n",
       "  <tbody>\n",
       "    <tr>\n",
       "      <th>0</th>\n",
       "      <td>/home/acarlier/OrnithoMate/p0133_bird_data/raw_data/task_2021-03-01_09/20210301-090002_(13.0).jpg</td>\n",
       "      <td>[VEREUR]</td>\n",
       "    </tr>\n",
       "    <tr>\n",
       "      <th>1</th>\n",
       "      <td>/home/acarlier/OrnithoMate/p0133_bird_data/raw_data/task_2021-03-01_09/20210301-090008_(9.0).jpg</td>\n",
       "      <td>[MESCHA]</td>\n",
       "    </tr>\n",
       "  </tbody>\n",
       "</table>\n",
       "</div>"
      ],
      "text/plain": [
       "                                                                                           file_path  \\\n",
       "0  /home/acarlier/OrnithoMate/p0133_bird_data/raw_data/task_2021-03-01_09/20210301-090002_(13.0).jpg   \n",
       "1   /home/acarlier/OrnithoMate/p0133_bird_data/raw_data/task_2021-03-01_09/20210301-090008_(9.0).jpg   \n",
       "\n",
       "      label  \n",
       "0  [VEREUR]  \n",
       "1  [MESCHA]  "
      ]
     },
     "execution_count": 21,
     "metadata": {},
     "output_type": "execute_result"
    }
   ],
   "source": [
    "df_input_test = generate_input_df(input_csv_path, columns_names)\n",
    "df_groupedby = df_groupby_filepath(df_input_test)\n",
    "df_groupedby.head(2)"
   ]
  },
  {
   "cell_type": "markdown",
   "metadata": {},
   "source": [
    "# Calcul des precisions recall par classes"
   ]
  },
  {
   "cell_type": "code",
   "execution_count": 22,
   "metadata": {},
   "outputs": [],
   "source": [
    "def get_metrics_by_comparing_two_lists(list1,list2):\n",
    "    # cas où les listes sont égales\n",
    "    metrics = {'TP':0, 'FP':0, 'FN':0}\n",
    "    if list1 == list2:\n",
    "        metrics['TP'] += len(list1)\n",
    "    else:\n",
    "        for element in list1:\n",
    "            if element in list2:\n",
    "                metrics['TP'] += 1\n",
    "            elif element not in list2:\n",
    "                metrics['FP'] += 1\n",
    "        for element in list2:\n",
    "            if element not in list1:\n",
    "                metrics['FN'] += 1\n",
    "    return metrics"
   ]
  },
  {
   "cell_type": "code",
   "execution_count": 23,
   "metadata": {},
   "outputs": [],
   "source": [
    "# fonctions qui compare deux listes d'observations (prédites et vérité terrain) et qui ressort trois metriques TP,FP,FN\n",
    "def evaluate_multiple_detections(true_labels, pred_labels):\n",
    "  TP = []\n",
    "  FP = copy.deepcopy(pred_labels)\n",
    "  FN = copy.deepcopy(true_labels)\n",
    "  for pl in pred_labels:\n",
    "    if pl in true_labels:\n",
    "        FP.remove(pl)\n",
    "        FN.remove(pl)\n",
    "        TP.append(pl)\n",
    "  return TP, FN, FP"
   ]
  },
  {
   "cell_type": "code",
   "execution_count": 24,
   "metadata": {},
   "outputs": [],
   "source": [
    "# fonctions qui compare deux listes d'observations (prédites et vérité terrain) AVEC TRY et qui ressort trois metriques TP,FP,FN\n",
    "def evaluate_multiple_detections_try_version(true_labels, pred_labels):\n",
    "  TP = []\n",
    "  FP = copy.deepcopy(pred_labels)\n",
    "  FN = copy.deepcopy(true_labels)\n",
    "  for pl in pred_labels:\n",
    "    if pl in true_labels:\n",
    "      try:\n",
    "        FP.remove(pl)\n",
    "      except ValueError:\n",
    "        \"not in the list\"\n",
    "      try:\n",
    "        FN.remove(pl)\n",
    "      except ValueError:\n",
    "        \"not in the list\"\n",
    "      try:\n",
    "        TP.append(pl)\n",
    "      except ValueError:\n",
    "        \"not in the list\"\n",
    "  return TP, FN, FP"
   ]
  },
  {
   "cell_type": "code",
   "execution_count": 25,
   "metadata": {},
   "outputs": [
    {
     "name": "stdout",
     "output_type": "stream",
     "text": [
      "\n",
      " 1 element : \n",
      " (['V'], [], []) \n",
      " ([], ['V'], ['M']) \n",
      " ([], ['M'], ['V']) \n",
      " 2 elements : \n",
      " (['M', 'V'], [], []) \n",
      " (['M', 'V'], [], []) \n",
      " (['TOUTUR'], ['TOUTUR', 'MULGRI'], [])\n"
     ]
    }
   ],
   "source": [
    "# tests sur les fonctions de prédictions\n",
    "# première liste = prédiction et seconde liste = vérité terrain\n",
    "test0 = evaluate_multiple_detections(['V'],['V']) #TP = 1\n",
    "test1 = evaluate_multiple_detections(['V'],['M']) #FP = 1, FN = 1\n",
    "test2 = evaluate_multiple_detections(['M'],['V']) #FN = 1, FP = 1\n",
    "\n",
    "test0_2 = evaluate_multiple_detections(['M','V'],['M','V']) #TP = 2\n",
    "test1_2 = evaluate_multiple_detections(['V', 'M'],['M','V']) #TP = 2\n",
    "test2_2 = evaluate_multiple_detections(['TOUTUR', 'TOUTUR', 'MULGRI'],['TOUTUR']) #TP = 1, FP = \n",
    "\n",
    "print(f\"\\n 1 element : \\n {test0} \\n {test1} \\n {test2} \\n 2 elements : \\n {test0_2} \\n {test1_2} \\n {test2_2}\")"
   ]
  },
  {
   "cell_type": "code",
   "execution_count": 26,
   "metadata": {},
   "outputs": [],
   "source": [
    "# fonction de calcul des précisions recall et score f1 de chaque classe\n",
    "def get_precision_recall_from_prediction(list_of_results, df_input_test, list_of_classes):\n",
    "    class_metrics = []\n",
    "    for classes in list_of_classes:\n",
    "        class_metrics.append({'TP':0, 'FP':0, 'FN':0})\n",
    "    \n",
    "    for i in range(len(list_of_results)):\n",
    "        pred_labels = list_of_results[i]\n",
    "        #print('pred', pred_labels)\n",
    "        true_labels = df_input_test.iloc[i]['label']\n",
    "        #print('true', true_labels)\n",
    "        TP, FN, FP = evaluate_multiple_detections_try_version(true_labels, pred_labels)\n",
    "        #print(TP, FN, FP)\n",
    "        \n",
    "        for lab in TP:\n",
    "            class_metrics[list_of_classes.index(lab)]['TP'] += 1\n",
    "        \n",
    "        for lab in FN:\n",
    "            class_metrics[list_of_classes.index(lab)]['FN'] += 1\n",
    "            \n",
    "        for lab in FP:\n",
    "            class_metrics[list_of_classes.index(lab)]['FP'] += 1\n",
    "            \n",
    "    return class_metrics"
   ]
  },
  {
   "cell_type": "code",
   "execution_count": 27,
   "metadata": {},
   "outputs": [
    {
     "data": {
      "text/plain": [
       "{'TP': 2434, 'FP': 283, 'FN': 80}"
      ]
     },
     "execution_count": 27,
     "metadata": {},
     "output_type": "execute_result"
    }
   ],
   "source": [
    "class_metrics = get_precision_recall_from_prediction(list_of_label_from_prediction, df_groupedby, classes)\n",
    "class_metrics[0]"
   ]
  },
  {
   "cell_type": "code",
   "execution_count": 28,
   "metadata": {},
   "outputs": [],
   "source": [
    "# fonction qui print les TP FP FN\n",
    "def print_results_tpfpfn(class_metrics, list_of_species):\n",
    "    for i in range(0, len(class_metrics)):\n",
    "        TP = class_metrics[i]['TP']\n",
    "        FP = class_metrics[i]['FP']\n",
    "        FN = class_metrics[i]['FN']\n",
    "        print(f\"{list_of_species[i]} - TP : {TP} FP : {FP} FN : {FN}\")"
   ]
  },
  {
   "cell_type": "code",
   "execution_count": 29,
   "metadata": {},
   "outputs": [
    {
     "name": "stdout",
     "output_type": "stream",
     "text": [
      "MESCHA - TP : 2434 FP : 283 FN : 80\n",
      "SITTOR - TP : 89 FP : 22 FN : 75\n",
      "MESBLE - TP : 260 FP : 9 FN : 172\n",
      "MESNON - TP : 157 FP : 61 FN : 45\n",
      "PINARB - TP : 24 FP : 133 FN : 2\n",
      "ACCMOU - TP : 72 FP : 59 FN : 20\n",
      "ROUGOR - TP : 36 FP : 18 FN : 74\n",
      "VEREUR - TP : 140 FP : 11 FN : 21\n",
      "MOIDOM - TP : 2 FP : 31 FN : 21\n",
      "TOUTUR - TP : 8 FP : 2 FN : 32\n",
      "ECUROU - TP : 30 FP : 126 FN : 5\n",
      "PIEBAV - TP : 158 FP : 9 FN : 16\n",
      "MULGRI - TP : 1 FP : 4 FN : 18\n",
      "CAMPAG - TP : 0 FP : 0 FN : 0\n",
      "MESNOI - TP : 14 FP : 13 FN : 20\n",
      "MESHUP - TP : 0 FP : 40 FN : 0\n"
     ]
    }
   ],
   "source": [
    "print_results_tpfpfn(class_metrics, get_classes_from_input())"
   ]
  },
  {
   "cell_type": "code",
   "execution_count": 30,
   "metadata": {},
   "outputs": [],
   "source": [
    "# fonctions qui plot les TP FN FP\n",
    "def plot_class_metrics(class_metrics):\n",
    "    i = 0\n",
    "    l = 1\n",
    "    fig, axs = plt.subplots(4, 4,figsize=(15,15))\n",
    "\n",
    "    for class_bird in class_metrics:\n",
    "        plt.subplot(4, 4, l)\n",
    "        names = list(class_bird.keys())\n",
    "        values = list(class_bird.values())\n",
    "        plt.bar(range(len(class_bird)), values, tick_label=names)\n",
    "        l += 1\n",
    "        plt.title(classes[i])\n",
    "        i +=1\n",
    "    plt.savefig(\"/home/acarlier/code/OrnithoScope/data/tpfpfn_efficientDet0.jpg\")"
   ]
  },
  {
   "cell_type": "code",
   "execution_count": 31,
   "metadata": {},
   "outputs": [
    {
     "data": {
      "image/png": "[encoded data removed]",
      "text/plain": [
       "<Figure size 1080x1080 with 16 Axes>"
      ]
     },
     "metadata": {
      "needs_background": "light"
     },
     "output_type": "display_data"
    }
   ],
   "source": [
    "plot_class_metrics(class_metrics)"
   ]
  },
  {
   "cell_type": "code",
   "execution_count": 32,
   "metadata": {},
   "outputs": [],
   "source": [
    "# fonctions qui sort precision recall et score f1 par classes\n",
    "def results_metrics_per_classes(class_metrics, list_of_species):\n",
    "    class_res = []  \n",
    "    i = 0\n",
    "    for class_bird in class_metrics:\n",
    "        TP = class_bird['TP']\n",
    "        FP = class_bird['FP']\n",
    "        FN = class_bird['FN']\n",
    "        if (TP+FP) == 0: \n",
    "            P = 0\n",
    "        else: \n",
    "            P = TP/(TP+FP)\n",
    "        if (TP+FN) == 0: \n",
    "            R = 0\n",
    "        else:\n",
    "            R = TP/(TP+FN)\n",
    "        if P == 0 and R == 0:\n",
    "            F_score = 0\n",
    "        else:\n",
    "            F_score = 2*P*R/(P+R)\n",
    "        class_res.append({'Precision': round(P,3), 'Rappel': round(R,3), 'F-score': round(F_score,3)})\n",
    "        i += 1\n",
    "    return class_res"
   ]
  },
  {
   "cell_type": "code",
   "execution_count": 33,
   "metadata": {},
   "outputs": [],
   "source": [
    "class_res = results_metrics_per_classes(class_metrics, classes)"
   ]
  },
  {
   "cell_type": "code",
   "execution_count": 34,
   "metadata": {},
   "outputs": [],
   "source": [
    "pickle.dump(class_res, open( \"/home/acarlier/code/OrnithoScope/saved_models/class_metrics_efficientDet1.p\", \"wb\" ) )"
   ]
  },
  {
   "cell_type": "code",
   "execution_count": 35,
   "metadata": {},
   "outputs": [],
   "source": [
    "# fonction qui print les metriques par classes p,r,f1\n",
    "def print_results_metrics_per_classes(class_res):\n",
    "    for res in class_res:\n",
    "        print(f\"Precision = {res['Precision']} - Rappel = {res['Rappel']} - F-score = {res['F-score']} \")"
   ]
  },
  {
   "cell_type": "code",
   "execution_count": 36,
   "metadata": {},
   "outputs": [
    {
     "name": "stdout",
     "output_type": "stream",
     "text": [
      "Precision = 0.896 - Rappel = 0.968 - F-score = 0.931 \n",
      "Precision = 0.802 - Rappel = 0.543 - F-score = 0.647 \n",
      "Precision = 0.967 - Rappel = 0.602 - F-score = 0.742 \n",
      "Precision = 0.72 - Rappel = 0.777 - F-score = 0.748 \n",
      "Precision = 0.153 - Rappel = 0.923 - F-score = 0.262 \n",
      "Precision = 0.55 - Rappel = 0.783 - F-score = 0.646 \n",
      "Precision = 0.667 - Rappel = 0.327 - F-score = 0.439 \n",
      "Precision = 0.927 - Rappel = 0.87 - F-score = 0.897 \n",
      "Precision = 0.061 - Rappel = 0.087 - F-score = 0.071 \n",
      "Precision = 0.8 - Rappel = 0.2 - F-score = 0.32 \n",
      "Precision = 0.192 - Rappel = 0.857 - F-score = 0.314 \n",
      "Precision = 0.946 - Rappel = 0.908 - F-score = 0.927 \n",
      "Precision = 0.2 - Rappel = 0.053 - F-score = 0.083 \n",
      "Precision = 0 - Rappel = 0 - F-score = 0 \n",
      "Precision = 0.519 - Rappel = 0.412 - F-score = 0.459 \n",
      "Precision = 0.0 - Rappel = 0 - F-score = 0 \n"
     ]
    }
   ],
   "source": [
    "print_results_metrics_per_classes(class_res)"
   ]
  },
  {
   "cell_type": "code",
   "execution_count": 37,
   "metadata": {},
   "outputs": [],
   "source": [
    "# fonction qui plot les p,r,f1 par classes\n",
    "def plot_class_p_r_f1(class_res,classes):\n",
    "    i = 0\n",
    "    l = 1\n",
    "    fig, axs = plt.subplots(4, 4,figsize=(15,15))\n",
    "\n",
    "    for class_bird in class_res:\n",
    "        ax1 = plt.subplot(4, 4, l)\n",
    "        names = list(class_bird.keys())\n",
    "        values = list(class_bird.values())\n",
    "        plt.bar(range(len(class_bird)), values, tick_label=names)\n",
    "        ax1.set_ylim([0, 1])\n",
    "        l += 1\n",
    "        plt.title(classes[i])\n",
    "        i +=1\n",
    "    plt.savefig(\"/home/acarlier/code/OrnithoScope/data/prf1_efficientDet1.jpg\")"
   ]
  },
  {
   "cell_type": "code",
   "execution_count": 38,
   "metadata": {},
   "outputs": [
    {
     "data": {
      "image/png": "[encoded data removed]",
      "text/plain": [
       "<Figure size 1080x1080 with 16 Axes>"
      ]
     },
     "metadata": {
      "needs_background": "light"
     },
     "output_type": "display_data"
    }
   ],
   "source": [
    "plot_class_p_r_f1(class_res, classes)"
   ]
  },
  {
   "cell_type": "code",
   "execution_count": 39,
   "metadata": {},
   "outputs": [
    {
     "data": {
      "text/plain": [
       "[{'Precision': 0.896, 'Rappel': 0.968, 'F-score': 0.931},\n",
       " {'Precision': 0.802, 'Rappel': 0.543, 'F-score': 0.647},\n",
       " {'Precision': 0.967, 'Rappel': 0.602, 'F-score': 0.742},\n",
       " {'Precision': 0.72, 'Rappel': 0.777, 'F-score': 0.748},\n",
       " {'Precision': 0.153, 'Rappel': 0.923, 'F-score': 0.262},\n",
       " {'Precision': 0.55, 'Rappel': 0.783, 'F-score': 0.646},\n",
       " {'Precision': 0.667, 'Rappel': 0.327, 'F-score': 0.439},\n",
       " {'Precision': 0.927, 'Rappel': 0.87, 'F-score': 0.897},\n",
       " {'Precision': 0.061, 'Rappel': 0.087, 'F-score': 0.071},\n",
       " {'Precision': 0.8, 'Rappel': 0.2, 'F-score': 0.32},\n",
       " {'Precision': 0.192, 'Rappel': 0.857, 'F-score': 0.314},\n",
       " {'Precision': 0.946, 'Rappel': 0.908, 'F-score': 0.927},\n",
       " {'Precision': 0.2, 'Rappel': 0.053, 'F-score': 0.083},\n",
       " {'Precision': 0, 'Rappel': 0, 'F-score': 0},\n",
       " {'Precision': 0.519, 'Rappel': 0.412, 'F-score': 0.459},\n",
       " {'Precision': 0.0, 'Rappel': 0, 'F-score': 0}]"
      ]
     },
     "execution_count": 39,
     "metadata": {},
     "output_type": "execute_result"
    }
   ],
   "source": [
    "class_res"
   ]
  },
  {
   "cell_type": "code",
   "execution_count": 42,
   "metadata": {},
   "outputs": [],
   "source": [
    "# fonction qui calcule le P,R et F1 score global\n",
    "def get_p_r_f1_global(class_metrics):\n",
    "    # class_metrics = {'TP': 2434, 'FP': 283, 'FN': 80}\n",
    "    l = len(class_metrics)\n",
    "    tp = 0.0\n",
    "    fp = 0.0\n",
    "    fn = 0.0    \n",
    "    for class_bird in class_metrics:\n",
    "        if class_bird['TP'] !=0 and class_bird['FP'] !=0 and class_bird['FN'] !=0:\n",
    "            tp += class_bird['TP']\n",
    "            fp += class_bird['FP']\n",
    "            fn += class_bird['FN']\n",
    "        else:\n",
    "            l-=1\n",
    "    p = tp/(tp+fp)\n",
    "    r = tp/(tp+fn)\n",
    "    f = 2*((p*r)/(p+r))\n",
    "    return round(p,3),round(r,3),round(f,3) "
   ]
  },
  {
   "cell_type": "code",
   "execution_count": 43,
   "metadata": {},
   "outputs": [
    {
     "name": "stdout",
     "output_type": "stream",
     "text": [
      "0.814 0.851 0.832\n"
     ]
    }
   ],
   "source": [
    "p_global, r_global, f_global = get_p_r_f1_global(class_metrics)\n",
    "print(p_global,r_global,f_global)"
   ]
  },
  {
   "cell_type": "code",
   "execution_count": null,
   "metadata": {},
   "outputs": [],
   "source": []
  }
 ],
 "metadata": {
  "interpreter": {
   "hash": "19c3081fe3265570dc101441fe38429c8bca377ba2301426b88b33379fbbcf85"
  },
  "kernelspec": {
   "display_name": "Python 3 (ipykernel)",
   "language": "python",
   "name": "python3"
  },
  "language_info": {
   "codemirror_mode": {
    "name": "ipython",
    "version": 3
   },
   "file_extension": ".py",
   "mimetype": "text/x-python",
   "name": "python",
   "nbconvert_exporter": "python",
   "pygments_lexer": "ipython3",
   "version": "3.8.10"
  }
 },
 "nbformat": 4,
 "nbformat_minor": 2
}
