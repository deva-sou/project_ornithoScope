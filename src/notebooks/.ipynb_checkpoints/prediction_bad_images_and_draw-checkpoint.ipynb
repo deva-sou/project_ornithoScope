{
 "cells": [
  {
   "cell_type": "code",
   "execution_count": 1,
   "metadata": {},
   "outputs": [],
   "source": [
    "import pandas as pd\n",
    "import cv2\n",
    "import matplotlib.pyplot as plt\n",
    "import matplotlib.patches as patches\n",
    "from PIL import Image\n",
    "import os\n",
    "import pickle\n",
    "import shutil\n",
    "from matplotlib import patches, text, patheffects\n",
    "import tqdm"
   ]
  },
  {
   "cell_type": "code",
   "execution_count": 2,
   "metadata": {},
   "outputs": [],
   "source": [
    "def load_pickle(path):\n",
    "    with open(path, 'rb') as fp:\n",
    "        _ = pickle.load(fp)\n",
    "    return _\n",
    "\n",
    "def get_bad_images(metrics_path):\n",
    "    P_R_F1_global_MobileNet_input_all = load_pickle(metrics_path)\n",
    "    bad_images = []\n",
    "    for img in P_R_F1_global_MobileNet_input_all:\n",
    "        #{'img_name': 'task_20210416_UPS/20210416-085532_(10.0).jpg', 'predictions_id': [10], 'predictions_name': ['ECUROU'], \n",
    "        #   'score': [0.99169606], 'true_id': [10.0], 'true_name': [], 'TP': ['ECUROU'], 'FN': [], 'FP': []}\n",
    "        if len(img[\"FN\"]) != 0 or len(img[\"FP\"]) != 0:\n",
    "            bad_images.append(img)\n",
    "    return bad_images\n",
    "\n",
    "def make_bad_images_copy(input_directory,saving_directory):\n",
    "    for image in bad_images:\n",
    "        dir = f\"{saving_directory}{image['img_name'].split('/')[0]}\"\n",
    "        if os.path.isdir(dir) == False:\n",
    "            os.mkdir(f\"{saving_directory}{image['img_name'].split('/')[0]}\")\n",
    "        shutil.copyfile(f\"{input_directory}{image['img_name']}\",\n",
    "                        f\"{saving_directory}{image['img_name'].split('/')[0]}/{image['img_name'].split('/')[1]}\")"
   ]
  },
  {
   "cell_type": "code",
   "execution_count": 3,
   "metadata": {},
   "outputs": [],
   "source": [
    "bad_images = get_bad_images('/home/acarlier/code/project_ornithoScope/src/data/pickles/MobileNet_train_all_test_all/prediction_TP_FP_FN_MobileNet_input_all.p')\n",
    "#make_bad_images_copy(input_directory = '/home/acarlier/code/data_ornithoscope/p0133_bird_data/raw_data/',\n",
    "#                    saving_directory='/home/acarlier/code/data_ornithoscope/p0133_bird_data/raw_data/_bad_imgs/')"
   ]
  },
  {
   "cell_type": "code",
   "execution_count": 4,
   "metadata": {},
   "outputs": [],
   "source": [
    "def check_bbox_on_img_test(bad_images,input_csv,bad_images_prediction_path,bad_images_prediction_and_vt_path):\n",
    "    df_input = pd.read_csv(input_csv,\n",
    "                        names = [\"path\",\"x1\",\"y1\",\"x2\",\"y2\",\"label\",\"height\",\"width\"])\n",
    "    for image in bad_images[:]:\n",
    "        _ = df_input[df_input['path'] == image[\"img_name\"]]\n",
    "        #print(len(_))\n",
    "        path = f\"{bad_images_prediction_path}{_.values[0][0].split('/')[-1]}\"\n",
    "        img = Image.open(path)\n",
    "        fig, ax = plt.subplots(figsize=(15,10))\n",
    "        ax.imshow(img)\n",
    "        for i in range(len(_)):\n",
    "            name = _.values[i][5]\n",
    "            xmin = _.values[i][1]\n",
    "            ymin = _.values[i][2]\n",
    "            xmax = _.values[i][3]\n",
    "            ymax = _.values[i][4]\n",
    "            img_w = _.values[i][-2]\n",
    "            img_h = _.values[i][-1]\n",
    "            w = round(xmax - xmin)\n",
    "            h = round(ymax - ymin)\n",
    "            ax.xaxis.tick_top()\n",
    "            ax.add_patch(patches.Rectangle((xmin,ymin),w,h, fill=False, edgecolor='red', lw=2, label=name))\n",
    "            plt.text(float(xmin+xmax)/2, float(ymin),name,bbox=dict(facecolor='red', alpha=0.75))\n",
    "        fig.savefig(f\"{bad_images_prediction_and_vt_path}{'_'.join(_.values[0][0].split('/'))}.jpeg\",bbox_inches='tight')\n",
    "    exit(0)"
   ]
  },
  {
   "cell_type": "code",
   "execution_count": 5,
   "metadata": {},
   "outputs": [],
   "source": [
    "#check_bbox_on_img_test(bad_images,\n",
    "#                  input_csv='../data/inputs/input_all.csv',\n",
    "#                  bad_images_prediction_path='/home/acarlier/code/data_ornithoscope/p0133_bird_data/raw_data/_bad_imgs/detected/',\n",
    "#                  bad_images_prediction_and_vt_path='/home/acarlier/code/data_ornithoscope/p0133_bird_data/raw_data/_bad_imgs/_vt/')"
   ]
  },
  {
   "cell_type": "code",
   "execution_count": 6,
   "metadata": {},
   "outputs": [],
   "source": [
    "# launch\n",
    "#!python3 predict.py -c config/get_bad_images/config_lab_mobilenetV1_train_all_test_all.json -w ../../data/saved_weights/MobileNet_train_all_test_all_bestLoss.h5 -i /home/acarlier/code/data_ornithoscope/p0133_bird_data/raw_data/_bad_imgs"
   ]
  },
  {
   "cell_type": "code",
   "execution_count": null,
   "metadata": {},
   "outputs": [],
   "source": []
  }
 ],
 "metadata": {
  "interpreter": {
   "hash": "b3b5bb1bcd71a03520cf73eb89f4762438b8f5a3fab272debfe39bdec838c6d6"
  },
  "kernelspec": {
   "display_name": "Python 3 (ipykernel)",
   "language": "python",
   "name": "python3"
  },
  "language_info": {
   "codemirror_mode": {
    "name": "ipython",
    "version": 3
   },
   "file_extension": ".py",
   "mimetype": "text/x-python",
   "name": "python",
   "nbconvert_exporter": "python",
   "pygments_lexer": "ipython3",
   "version": "3.8.10"
  }
 },
 "nbformat": 4,
 "nbformat_minor": 2
}
