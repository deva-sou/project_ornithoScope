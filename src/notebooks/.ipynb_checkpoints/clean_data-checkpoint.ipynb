{
 "cells": [
  {
   "cell_type": "code",
   "execution_count": 19,
   "metadata": {},
   "outputs": [],
   "source": [
    "import pandas as pd\n",
    "import os\n",
    "from os.path import exists\n",
    "import copy"
   ]
  },
  {
   "cell_type": "code",
   "execution_count": 62,
   "metadata": {},
   "outputs": [],
   "source": [
    "input_train = pd.read_csv(\"/home/acarlier/code/project_ornithoScope/src/data/inputs/input_train.csv\",\n",
    "                        names=['path','a','b','c','d','label','h','w'])\n",
    "input_test = pd.read_csv(\"/home/acarlier/code/project_ornithoScope/src/data/inputs/input_test.csv\",\n",
    "                         names=['path','a','b','c','d','label','h','w'])\n",
    "input_train_caped300 = pd.read_csv(\"/home/acarlier/code/project_ornithoScope/src/data/inputs/input_caped/input_train_caped_300.csv\",\n",
    "                                   names=['path','a','b','c','d','label','h','w'])"
   ]
  },
  {
   "cell_type": "code",
   "execution_count": 63,
   "metadata": {},
   "outputs": [
    {
     "data": {
      "text/plain": [
       "3541"
      ]
     },
     "execution_count": 63,
     "metadata": {},
     "output_type": "execute_result"
    }
   ],
   "source": [
    "input_train_caped300.shape[0]"
   ]
  },
  {
   "cell_type": "markdown",
   "metadata": {},
   "source": [
    "# To do : \n",
    "On a modifié les xml\n",
    "Faut virer les paths inexistants"
   ]
  },
  {
   "cell_type": "code",
   "execution_count": 22,
   "metadata": {},
   "outputs": [],
   "source": [
    "list_removed_files = [\n",
    "    \"task_2021_11_03-04_cescau4/2021-11-04-06-50-15.jpg\",\n",
    "    \"task_19-01-2021/2021-01-19-11-46-53.jpg\",\n",
    "    \"task_2021_11_03-04_cescau4/2021-11-03-12-53-09.jpg\",\n",
    "    \"task_2021_11_03-04_cescau4/2021-11-04-06-50-15.jpg\",\n",
    "    \"task_2021_11_03-04_cescau4/2021-11-04-07-46-35.jpg\",\n",
    "    \"task_2021_11_03-04_cescau4/2021-11-04-07-48-09.jpg\",\n",
    "    \"task_2021_11_03-04_cescau4/2021-11-04-07-50-03.jpg\",\n",
    "    \"task_2021_11_03-04_cescau4/2021-11-04-08-17-24.jpg\",\n",
    "    \"task_20210205/20210205-165310_07(12.0).jpg\",\n",
    "    \"task_20210420/20210420-102102_(85.0).jpg\",\n",
    "    \"task_20210526_UPS/20210526-112435_(13.0).jpg\",\n",
    "    \"task_20210611_Lab/2021-06-11-14-00-47.jpg\",\n",
    "    \"task_20210611_Lab/2021-06-11-14-46-35.jpg\",\n",
    "    \"task_20210612_1_Lab/2021-06-12-06-19-57.jpg\",\n",
    "    \"task_20210615_Lab/2021-06-15-10-55-21.jpg\",\n",
    "    \"task_20210624_balacet/2021-06-24-10-41-29.jpg\",\n",
    "    \"task_20210705-07_balacet/2021-07-07-07-56-10.jpg\",\n",
    "    \"task_20211204_Orlu/2021-12-24-09-11-38.jpg.jpeg\"\n",
    "]"
   ]
  },
  {
   "cell_type": "code",
   "execution_count": 16,
   "metadata": {},
   "outputs": [],
   "source": [
    "def check_path(df_):\n",
    "    df = copy.deepcopy(df_)\n",
    "    base_path = '/home/acarlier/code/data_ornithoscope/p0133_bird_data/raw_data/'\n",
    "    for index, row in df.iterrows():\n",
    "        path_to_file = f\"{base_path}{row['path']}\"\n",
    "        if exists(path_to_file) == False:\n",
    "            print(\"False\")\n",
    "            "
   ]
  },
  {
   "cell_type": "code",
   "execution_count": 18,
   "metadata": {},
   "outputs": [],
   "source": [
    "check_path(input_test)"
   ]
  },
  {
   "cell_type": "code",
   "execution_count": 46,
   "metadata": {},
   "outputs": [],
   "source": [
    "def element_in_df(_df,_list_files):\n",
    "    df = copy.deepcopy(_df)\n",
    "    for filepath in _list_files:\n",
    "        if filepath in _df['path'].values:\n",
    "            df.drop(df.index[df['path'] == filepath], inplace=True)\n",
    "    return df"
   ]
  },
  {
   "cell_type": "code",
   "execution_count": 64,
   "metadata": {},
   "outputs": [
    {
     "name": "stdout",
     "output_type": "stream",
     "text": [
      "3541\n",
      "3535\n"
     ]
    }
   ],
   "source": [
    "print(input_train_caped300.shape[0])\n",
    "_ = element_in_df(input_train_caped300, list_removed_files)\n",
    "print(_.shape[0])\n"
   ]
  },
  {
   "cell_type": "code",
   "execution_count": 65,
   "metadata": {},
   "outputs": [
    {
     "data": {
      "text/html": [
       "<div>\n",
       "<style scoped>\n",
       "    .dataframe tbody tr th:only-of-type {\n",
       "        vertical-align: middle;\n",
       "    }\n",
       "\n",
       "    .dataframe tbody tr th {\n",
       "        vertical-align: top;\n",
       "    }\n",
       "\n",
       "    .dataframe thead th {\n",
       "        text-align: right;\n",
       "    }\n",
       "</style>\n",
       "<table border=\"1\" class=\"dataframe\">\n",
       "  <thead>\n",
       "    <tr style=\"text-align: right;\">\n",
       "      <th></th>\n",
       "      <th>path</th>\n",
       "      <th>a</th>\n",
       "      <th>b</th>\n",
       "      <th>c</th>\n",
       "      <th>d</th>\n",
       "      <th>label</th>\n",
       "      <th>h</th>\n",
       "      <th>w</th>\n",
       "    </tr>\n",
       "  </thead>\n",
       "  <tbody>\n",
       "    <tr>\n",
       "      <th>0</th>\n",
       "      <td>task_05-01-2021/2021-01-05-15-58-14.jpg</td>\n",
       "      <td>885.696</td>\n",
       "      <td>603.8400</td>\n",
       "      <td>1918.080</td>\n",
       "      <td>1088.0000</td>\n",
       "      <td>SITTOR</td>\n",
       "      <td>1920.0</td>\n",
       "      <td>1088.0</td>\n",
       "    </tr>\n",
       "    <tr>\n",
       "      <th>1</th>\n",
       "      <td>task_05-01-2021/2021-01-05-15-58-23.jpg</td>\n",
       "      <td>0.000</td>\n",
       "      <td>158.0864</td>\n",
       "      <td>243.264</td>\n",
       "      <td>569.1328</td>\n",
       "      <td>MESBLE</td>\n",
       "      <td>1920.0</td>\n",
       "      <td>1088.0</td>\n",
       "    </tr>\n",
       "    <tr>\n",
       "      <th>2</th>\n",
       "      <td>task_05-01-2021/2021-01-05-15-59-19.jpg</td>\n",
       "      <td>856.704</td>\n",
       "      <td>711.8784</td>\n",
       "      <td>1920.000</td>\n",
       "      <td>1088.0000</td>\n",
       "      <td>SITTOR</td>\n",
       "      <td>1920.0</td>\n",
       "      <td>1088.0</td>\n",
       "    </tr>\n",
       "    <tr>\n",
       "      <th>3</th>\n",
       "      <td>task_05-01-2021/2021-01-05-15-59-22.jpg</td>\n",
       "      <td>758.400</td>\n",
       "      <td>653.9968</td>\n",
       "      <td>1829.376</td>\n",
       "      <td>1088.0000</td>\n",
       "      <td>SITTOR</td>\n",
       "      <td>1920.0</td>\n",
       "      <td>1088.0</td>\n",
       "    </tr>\n",
       "    <tr>\n",
       "      <th>4</th>\n",
       "      <td>task_05-01-2021/2021-01-05-15-59-46.jpg</td>\n",
       "      <td>1256.256</td>\n",
       "      <td>484.1600</td>\n",
       "      <td>1920.000</td>\n",
       "      <td>1080.2752</td>\n",
       "      <td>SITTOR</td>\n",
       "      <td>1920.0</td>\n",
       "      <td>1088.0</td>\n",
       "    </tr>\n",
       "    <tr>\n",
       "      <th>...</th>\n",
       "      <td>...</td>\n",
       "      <td>...</td>\n",
       "      <td>...</td>\n",
       "      <td>...</td>\n",
       "      <td>...</td>\n",
       "      <td>...</td>\n",
       "      <td>...</td>\n",
       "      <td>...</td>\n",
       "    </tr>\n",
       "    <tr>\n",
       "      <th>3536</th>\n",
       "      <td>task_21-01-2021/2021-01-21-14-23-36.jpg</td>\n",
       "      <td>634.944</td>\n",
       "      <td>187.0272</td>\n",
       "      <td>1169.472</td>\n",
       "      <td>995.5200</td>\n",
       "      <td>MESCHA</td>\n",
       "      <td>1920.0</td>\n",
       "      <td>1088.0</td>\n",
       "    </tr>\n",
       "    <tr>\n",
       "      <th>3537</th>\n",
       "      <td>task_21-01-2021/2021-01-21-14-26-23.jpg</td>\n",
       "      <td>673.536</td>\n",
       "      <td>227.5008</td>\n",
       "      <td>1408.704</td>\n",
       "      <td>723.4112</td>\n",
       "      <td>MESBLE</td>\n",
       "      <td>1920.0</td>\n",
       "      <td>1088.0</td>\n",
       "    </tr>\n",
       "    <tr>\n",
       "      <th>3538</th>\n",
       "      <td>task_21-01-2021/2021-01-21-14-26-50.jpg</td>\n",
       "      <td>876.096</td>\n",
       "      <td>374.1632</td>\n",
       "      <td>1291.008</td>\n",
       "      <td>735.0528</td>\n",
       "      <td>MESNON</td>\n",
       "      <td>1920.0</td>\n",
       "      <td>1088.0</td>\n",
       "    </tr>\n",
       "    <tr>\n",
       "      <th>3539</th>\n",
       "      <td>task_21-01-2021/2021-01-21-14-27-03.jpg</td>\n",
       "      <td>783.552</td>\n",
       "      <td>210.2016</td>\n",
       "      <td>1468.416</td>\n",
       "      <td>1088.0000</td>\n",
       "      <td>MESNON</td>\n",
       "      <td>1920.0</td>\n",
       "      <td>1088.0</td>\n",
       "    </tr>\n",
       "    <tr>\n",
       "      <th>3540</th>\n",
       "      <td>task_21-01-2021/2021-01-21-14-32-19.jpg</td>\n",
       "      <td>688.896</td>\n",
       "      <td>271.8912</td>\n",
       "      <td>1078.656</td>\n",
       "      <td>628.8640</td>\n",
       "      <td>MESBLE</td>\n",
       "      <td>1920.0</td>\n",
       "      <td>1088.0</td>\n",
       "    </tr>\n",
       "  </tbody>\n",
       "</table>\n",
       "<p>3535 rows × 8 columns</p>\n",
       "</div>"
      ],
      "text/plain": [
       "                                         path         a         b         c  \\\n",
       "0     task_05-01-2021/2021-01-05-15-58-14.jpg   885.696  603.8400  1918.080   \n",
       "1     task_05-01-2021/2021-01-05-15-58-23.jpg     0.000  158.0864   243.264   \n",
       "2     task_05-01-2021/2021-01-05-15-59-19.jpg   856.704  711.8784  1920.000   \n",
       "3     task_05-01-2021/2021-01-05-15-59-22.jpg   758.400  653.9968  1829.376   \n",
       "4     task_05-01-2021/2021-01-05-15-59-46.jpg  1256.256  484.1600  1920.000   \n",
       "...                                       ...       ...       ...       ...   \n",
       "3536  task_21-01-2021/2021-01-21-14-23-36.jpg   634.944  187.0272  1169.472   \n",
       "3537  task_21-01-2021/2021-01-21-14-26-23.jpg   673.536  227.5008  1408.704   \n",
       "3538  task_21-01-2021/2021-01-21-14-26-50.jpg   876.096  374.1632  1291.008   \n",
       "3539  task_21-01-2021/2021-01-21-14-27-03.jpg   783.552  210.2016  1468.416   \n",
       "3540  task_21-01-2021/2021-01-21-14-32-19.jpg   688.896  271.8912  1078.656   \n",
       "\n",
       "              d   label       h       w  \n",
       "0     1088.0000  SITTOR  1920.0  1088.0  \n",
       "1      569.1328  MESBLE  1920.0  1088.0  \n",
       "2     1088.0000  SITTOR  1920.0  1088.0  \n",
       "3     1088.0000  SITTOR  1920.0  1088.0  \n",
       "4     1080.2752  SITTOR  1920.0  1088.0  \n",
       "...         ...     ...     ...     ...  \n",
       "3536   995.5200  MESCHA  1920.0  1088.0  \n",
       "3537   723.4112  MESBLE  1920.0  1088.0  \n",
       "3538   735.0528  MESNON  1920.0  1088.0  \n",
       "3539  1088.0000  MESNON  1920.0  1088.0  \n",
       "3540   628.8640  MESBLE  1920.0  1088.0  \n",
       "\n",
       "[3535 rows x 8 columns]"
      ]
     },
     "execution_count": 65,
     "metadata": {},
     "output_type": "execute_result"
    }
   ],
   "source": [
    "_"
   ]
  },
  {
   "cell_type": "code",
   "execution_count": 66,
   "metadata": {},
   "outputs": [],
   "source": [
    "_.to_csv(\"/home/acarlier/code/project_ornithoScope/src/data/inputs/raw_data/cleaned_labels/input_train_caped300_cleaned.csv\",index=False,header=False)"
   ]
  },
  {
   "cell_type": "code",
   "execution_count": null,
   "metadata": {},
   "outputs": [],
   "source": []
  }
 ],
 "metadata": {
  "interpreter": {
   "hash": "b3b5bb1bcd71a03520cf73eb89f4762438b8f5a3fab272debfe39bdec838c6d6"
  },
  "kernelspec": {
   "display_name": "Python 3 (ipykernel)",
   "language": "python",
   "name": "python3"
  },
  "language_info": {
   "codemirror_mode": {
    "name": "ipython",
    "version": 3
   },
   "file_extension": ".py",
   "mimetype": "text/x-python",
   "name": "python",
   "nbconvert_exporter": "python",
   "pygments_lexer": "ipython3",
   "version": "3.8.10"
  }
 },
 "nbformat": 4,
 "nbformat_minor": 2
}
