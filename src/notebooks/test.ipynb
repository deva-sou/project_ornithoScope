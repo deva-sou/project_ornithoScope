{
 "cells": [
  {
   "cell_type": "code",
   "execution_count": 20,
   "metadata": {},
   "outputs": [],
   "source": [
    "import pandas as pd\n",
    "import cv2\n",
    "import matplotlib.pyplot as plt\n",
    "import matplotlib.patches as patches\n",
    "from PIL import Image\n",
    "import os\n",
    "import pickle"
   ]
  },
  {
   "cell_type": "code",
   "execution_count": 28,
   "metadata": {},
   "outputs": [
    {
     "name": "stdout",
     "output_type": "stream",
     "text": [
      "P_R_F1_global_MobileNet_task_20210526_UPS.p 0.297\n",
      "P_R_F1_global_MobileNet_task_2021-03-01_17.p 0.573\n",
      "P_R_F1_global_MobileNet_task_20210615_Lab.p 0.356\n",
      "P_R_F1_global_MobileNet_task_20210418_UPS.p 0.874\n",
      "P_R_F1_global_MobileNet_task_20210217.p 0.468\n",
      "P_R_F1_global_MobileNet_task_20210413_UPS.p 0.0\n",
      "P_R_F1_global_MobileNet_task_20210412.p 0.854\n",
      "P_R_F1_global_MobileNet_task_2021-03-01_13.p 0.737\n",
      "P_R_F1_global_MobileNet_task_20210417_UPS.p 0.932\n",
      "P_R_F1_global_MobileNet_task_20210228.p 0.657\n",
      "P_R_F1_global_MobileNet_task_2021-03-01_08.p 0.569\n",
      "P_R_F1_global_MobileNet_task_20210525_UPS.p 0.553\n",
      "P_R_F1_global_MobileNet_task_20210611_Lab.p 0.405\n",
      "P_R_F1_global_MobileNet_task_2021-03-01_18.p 0.629\n",
      "P_R_F1_global_MobileNet_task_2021-03-01_11.p 0.37\n",
      "P_R_F1_global_MobileNet_task_20210420.p 0.0\n",
      "P_R_F1_global_MobileNet_task_2021-03-01_09.p 0.541\n",
      "P_R_F1_global_MobileNet_task_2021-03-01_14.p 0.623\n",
      "P_R_F1_global_MobileNet_task_2021-03-01_16.p 0.661\n",
      "P_R_F1_global_MobileNet_task_18-01-2021.p 0.762\n",
      "P_R_F1_global_MobileNet_task_20210227.p 0.551\n",
      "P_R_F1_global_MobileNet_task_20210625_balacet.p 0.471\n",
      "P_R_F1_global_MobileNet_task_20210624_balacet.p 0.484\n",
      "P_R_F1_global_MobileNet_task_06-01-2021.p 0.552\n",
      "P_R_F1_global_MobileNet_task_20210616_Lab.p 0.261\n",
      "P_R_F1_global_MobileNet_task_21-01-2021.p 0.785\n",
      "P_R_F1_global_MobileNet_task_2021_11_03-04_cescau4.p 0.478\n",
      "P_R_F1_global_MobileNet_task_20210523_UPS.p 0.803\n",
      "P_R_F1_global_MobileNet_task_2021-03-01_12.p 0.682\n",
      "P_R_F1_global_MobileNet_task_20210414.p 0.899\n",
      "P_R_F1_global_MobileNet_task_2021-03-01_07.p 0.511\n",
      "P_R_F1_global_MobileNet_task_20210409.p 0.0\n",
      "P_R_F1_global_MobileNet_task_20210419_UPS.p 0.0\n",
      "P_R_F1_global_MobileNet_task_20210623_balacet.p 0.509\n",
      "P_R_F1_global_MobileNet_task_MOIDOM_ODJ.p 0.0\n",
      "P_R_F1_global_MobileNet_task_2021-03-01_10.p 0.674\n",
      "P_R_F1_global_MobileNet_task_20210415_UPS.p 0.94\n",
      "P_R_F1_global_MobileNet_task_20210705-07_balacet.p 0.311\n",
      "P_R_F1_global_MobileNet_task_2021-03-01_15.p 0.682\n",
      "P_R_F1_global_MobileNet_task_19-01-2021.p 0.622\n",
      "P_R_F1_global_MobileNet_task_20210205.p 0.531\n",
      "P_R_F1_global_MobileNet_task_20210612_1_Lab.p 0.296\n",
      "P_R_F1_global_MobileNet_task_20211204_Orlu.p 0.628\n",
      "P_R_F1_global_MobileNet_task_20210416_UPS.p 0.972\n",
      "P_R_F1_global_MobileNet_task_05-01-2021.p 0.732\n"
     ]
    },
    {
     "data": {
      "text/plain": [
       "[0.923, 0.606, 0.732]"
      ]
     },
     "execution_count": 28,
     "metadata": {},
     "output_type": "execute_result"
    }
   ],
   "source": [
    "for file in os.listdir(\"/home/acarlier/code/project_ornithoScope/src/data/pickles/MobileNet_iNat1000_v0_tested_on_all_per_tasks\"):\n",
    "    if file.startswith(\"P_R_F1_global_MobileNet\"):\n",
    "        with open(f\"/home/acarlier/code/project_ornithoScope/src/data/pickles/MobileNet_iNat1000_v0_tested_on_all_per_tasks/{file}\", 'rb') as fp:\n",
    "            _ = pickle.load(fp)\n",
    "        print(file, _[2])\n",
    "_"
   ]
  },
  {
   "cell_type": "code",
   "execution_count": null,
   "metadata": {},
   "outputs": [],
   "source": []
  }
 ],
 "metadata": {
  "interpreter": {
   "hash": "b3b5bb1bcd71a03520cf73eb89f4762438b8f5a3fab272debfe39bdec838c6d6"
  },
  "kernelspec": {
   "display_name": "Python 3.8.10 ('venv_ornithoscope': venv)",
   "language": "python",
   "name": "python3"
  },
  "language_info": {
   "codemirror_mode": {
    "name": "ipython",
    "version": 3
   },
   "file_extension": ".py",
   "mimetype": "text/x-python",
   "name": "python",
   "nbconvert_exporter": "python",
   "pygments_lexer": "ipython3",
   "version": "3.8.10"
  },
  "orig_nbformat": 4
 },
 "nbformat": 4,
 "nbformat_minor": 2
}
