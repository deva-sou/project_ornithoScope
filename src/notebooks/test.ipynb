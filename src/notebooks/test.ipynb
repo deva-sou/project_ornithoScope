{
 "cells": [
  {
   "cell_type": "code",
   "execution_count": 11,
   "metadata": {},
   "outputs": [
    {
     "name": "stdout",
     "output_type": "stream",
     "text": [
      "Wrong policy for data augmentation\n",
      "Choose beetween:\n",
      "\n",
      "['v3', 'v2']\n"
     ]
    }
   ],
   "source": [
    "def get_policy_container(entry):\n",
    "    data_aug_policies = {'v3':'policies.PolicyContainer(policies.policies_v3())',\n",
    "                            'v2':'policies.PolicyContainer(policies.policies_v2())'}\n",
    "    if entry.lower() in data_aug_policies:\n",
    "        print(data_aug_policies.get(entry.lower()))\n",
    "    else : \n",
    "        print(\"Wrong policy for data augmentation\")\n",
    "        print('Choose beetween:\\n')\n",
    "        print(list(data_aug_policies.keys()))\n",
    "        \n",
    "get_policy_container('None')"
   ]
  },
  {
   "cell_type": "code",
   "execution_count": 12,
   "metadata": {},
   "outputs": [
    {
     "name": "stdout",
     "output_type": "stream",
     "text": [
      "['policies_v0', 'policies_v1', 'policies_v2', 'policies_v3']\n"
     ]
    }
   ],
   "source": [
    "from bbaug.policies import list_policies\n",
    "print(list_policies())"
   ]
  },
  {
   "cell_type": "code",
   "execution_count": null,
   "metadata": {},
   "outputs": [],
   "source": []
  }
 ],
 "metadata": {
  "interpreter": {
   "hash": "b3b5bb1bcd71a03520cf73eb89f4762438b8f5a3fab272debfe39bdec838c6d6"
  },
  "kernelspec": {
   "display_name": "Python 3.8.10 ('venv_ornithoscope': venv)",
   "language": "python",
   "name": "python3"
  },
  "language_info": {
   "codemirror_mode": {
    "name": "ipython",
    "version": 3
   },
   "file_extension": ".py",
   "mimetype": "text/x-python",
   "name": "python",
   "nbconvert_exporter": "python",
   "pygments_lexer": "ipython3",
   "version": "3.8.10"
  },
  "orig_nbformat": 4
 },
 "nbformat": 4,
 "nbformat_minor": 2
}
