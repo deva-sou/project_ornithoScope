{
 "cells": [
  {
   "cell_type": "code",
   "execution_count": 4,
   "metadata": {},
   "outputs": [
    {
     "data": {
      "text/html": [
       "<div>\n",
       "<style scoped>\n",
       "    .dataframe tbody tr th:only-of-type {\n",
       "        vertical-align: middle;\n",
       "    }\n",
       "\n",
       "    .dataframe tbody tr th {\n",
       "        vertical-align: top;\n",
       "    }\n",
       "\n",
       "    .dataframe thead th {\n",
       "        text-align: right;\n",
       "    }\n",
       "</style>\n",
       "<table border=\"1\" class=\"dataframe\">\n",
       "  <thead>\n",
       "    <tr style=\"text-align: right;\">\n",
       "      <th></th>\n",
       "      <th>0</th>\n",
       "    </tr>\n",
       "  </thead>\n",
       "  <tbody>\n",
       "    <tr>\n",
       "      <th>0</th>\n",
       "      <td>task_MOIDOM_ODJ/1676.jpeg.jpeg</td>\n",
       "    </tr>\n",
       "    <tr>\n",
       "      <th>1</th>\n",
       "      <td>task_2021-03-01_09/20210301-091639_(42.0).jpg....</td>\n",
       "    </tr>\n",
       "    <tr>\n",
       "      <th>2</th>\n",
       "      <td>task_20210217/20210217-174346_01(12.0).jpg.jpeg</td>\n",
       "    </tr>\n",
       "    <tr>\n",
       "      <th>3</th>\n",
       "      <td>task_2021_11_03-04_cescau4/2021-11-03-16-14-49...</td>\n",
       "    </tr>\n",
       "    <tr>\n",
       "      <th>4</th>\n",
       "      <td>task_20210705-07_balacet/2021-07-07-08-26-01.j...</td>\n",
       "    </tr>\n",
       "    <tr>\n",
       "      <th>...</th>\n",
       "      <td>...</td>\n",
       "    </tr>\n",
       "    <tr>\n",
       "      <th>175</th>\n",
       "      <td>task_20210227/20210227-145141_(5.0).jpg.jpeg</td>\n",
       "    </tr>\n",
       "    <tr>\n",
       "      <th>176</th>\n",
       "      <td>task_2021_11_03-04_cescau4/2021-11-03-12-35-00...</td>\n",
       "    </tr>\n",
       "    <tr>\n",
       "      <th>177</th>\n",
       "      <td>task_20210523_UPS/20210523-162810_(17.0).jpg.jpeg</td>\n",
       "    </tr>\n",
       "    <tr>\n",
       "      <th>178</th>\n",
       "      <td>task_MOIDOM_ODJ/1407.jpeg.jpeg</td>\n",
       "    </tr>\n",
       "    <tr>\n",
       "      <th>179</th>\n",
       "      <td>task_20211204_Orlu/2021-12-24-09-11-38.jpg.jpeg</td>\n",
       "    </tr>\n",
       "  </tbody>\n",
       "</table>\n",
       "<p>180 rows × 1 columns</p>\n",
       "</div>"
      ],
      "text/plain": [
       "                                                     0\n",
       "0                       task_MOIDOM_ODJ/1676.jpeg.jpeg\n",
       "1    task_2021-03-01_09/20210301-091639_(42.0).jpg....\n",
       "2      task_20210217/20210217-174346_01(12.0).jpg.jpeg\n",
       "3    task_2021_11_03-04_cescau4/2021-11-03-16-14-49...\n",
       "4    task_20210705-07_balacet/2021-07-07-08-26-01.j...\n",
       "..                                                 ...\n",
       "175       task_20210227/20210227-145141_(5.0).jpg.jpeg\n",
       "176  task_2021_11_03-04_cescau4/2021-11-03-12-35-00...\n",
       "177  task_20210523_UPS/20210523-162810_(17.0).jpg.jpeg\n",
       "178                     task_MOIDOM_ODJ/1407.jpeg.jpeg\n",
       "179    task_20211204_Orlu/2021-12-24-09-11-38.jpg.jpeg\n",
       "\n",
       "[180 rows x 1 columns]"
      ]
     },
     "execution_count": 4,
     "metadata": {},
     "output_type": "execute_result"
    }
   ],
   "source": [
    "import os\n",
    "import pandas as pd\n",
    "l = []\n",
    "for img in os.listdir('/home/acarlier/code/data_ornithoscope/p0133_bird_data/raw_data/_bad_imgs/_vt/'):\n",
    "    l.append(f\"{'/'.join(img.split('&'))}\")\n",
    "d = pd.DataFrame(l)\n",
    "d\n",
    "    \n",
    "    "
   ]
  },
  {
   "cell_type": "code",
   "execution_count": 5,
   "metadata": {},
   "outputs": [],
   "source": [
    "d.to_csv('/home/acarlier/code/data_ornithoscope/p0133_bird_data/raw_data/_bad_imgs/_vt/index.csv')"
   ]
  },
  {
   "cell_type": "code",
   "execution_count": null,
   "metadata": {},
   "outputs": [],
   "source": []
  }
 ],
 "metadata": {
  "interpreter": {
   "hash": "b3b5bb1bcd71a03520cf73eb89f4762438b8f5a3fab272debfe39bdec838c6d6"
  },
  "kernelspec": {
   "display_name": "Python 3.8.10 ('venv_ornithoscope': venv)",
   "language": "python",
   "name": "python3"
  },
  "language_info": {
   "codemirror_mode": {
    "name": "ipython",
    "version": 3
   },
   "file_extension": ".py",
   "mimetype": "text/x-python",
   "name": "python",
   "nbconvert_exporter": "python",
   "pygments_lexer": "ipython3",
   "version": "3.8.10"
  },
  "orig_nbformat": 4
 },
 "nbformat": 4,
 "nbformat_minor": 2
}
