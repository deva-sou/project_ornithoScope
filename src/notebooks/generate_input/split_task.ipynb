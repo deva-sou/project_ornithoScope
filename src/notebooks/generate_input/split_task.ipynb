{
 "cells": [
  {
   "cell_type": "code",
   "execution_count": 1,
   "metadata": {},
   "outputs": [],
   "source": [
    "import pandas as pd\n",
    "import copy"
   ]
  },
  {
   "cell_type": "code",
   "execution_count": 2,
   "metadata": {},
   "outputs": [
    {
     "data": {
      "text/html": [
       "<div>\n",
       "<style scoped>\n",
       "    .dataframe tbody tr th:only-of-type {\n",
       "        vertical-align: middle;\n",
       "    }\n",
       "\n",
       "    .dataframe tbody tr th {\n",
       "        vertical-align: top;\n",
       "    }\n",
       "\n",
       "    .dataframe thead th {\n",
       "        text-align: right;\n",
       "    }\n",
       "</style>\n",
       "<table border=\"1\" class=\"dataframe\">\n",
       "  <thead>\n",
       "    <tr style=\"text-align: right;\">\n",
       "      <th></th>\n",
       "      <th>task_name</th>\n",
       "      <th>xmin</th>\n",
       "      <th>xmax</th>\n",
       "      <th>ymin</th>\n",
       "      <th>ymax</th>\n",
       "      <th>label</th>\n",
       "      <th>h</th>\n",
       "      <th>w</th>\n",
       "    </tr>\n",
       "  </thead>\n",
       "  <tbody>\n",
       "    <tr>\n",
       "      <th>0</th>\n",
       "      <td>task_05-01-2021/2021-01-05-15-58-14.jpg</td>\n",
       "      <td>1067.136</td>\n",
       "      <td>389.6128</td>\n",
       "      <td>1354.560</td>\n",
       "      <td>596.1152</td>\n",
       "      <td>MESCHA</td>\n",
       "      <td>1920</td>\n",
       "      <td>1088</td>\n",
       "    </tr>\n",
       "    <tr>\n",
       "      <th>1</th>\n",
       "      <td>task_05-01-2021/2021-01-05-15-58-14.jpg</td>\n",
       "      <td>885.696</td>\n",
       "      <td>603.8400</td>\n",
       "      <td>1918.080</td>\n",
       "      <td>1088.0000</td>\n",
       "      <td>SITTOR</td>\n",
       "      <td>1920</td>\n",
       "      <td>1088</td>\n",
       "    </tr>\n",
       "    <tr>\n",
       "      <th>2</th>\n",
       "      <td>task_05-01-2021/2021-01-05-15-58-16.jpg</td>\n",
       "      <td>845.184</td>\n",
       "      <td>223.6928</td>\n",
       "      <td>1057.536</td>\n",
       "      <td>401.1456</td>\n",
       "      <td>MESCHA</td>\n",
       "      <td>1920</td>\n",
       "      <td>1088</td>\n",
       "    </tr>\n",
       "  </tbody>\n",
       "</table>\n",
       "</div>"
      ],
      "text/plain": [
       "                                 task_name      xmin      xmax      ymin  \\\n",
       "0  task_05-01-2021/2021-01-05-15-58-14.jpg  1067.136  389.6128  1354.560   \n",
       "1  task_05-01-2021/2021-01-05-15-58-14.jpg   885.696  603.8400  1918.080   \n",
       "2  task_05-01-2021/2021-01-05-15-58-16.jpg   845.184  223.6928  1057.536   \n",
       "\n",
       "        ymax   label     h     w  \n",
       "0   596.1152  MESCHA  1920  1088  \n",
       "1  1088.0000  SITTOR  1920  1088  \n",
       "2   401.1456  MESCHA  1920  1088  "
      ]
     },
     "execution_count": 2,
     "metadata": {},
     "output_type": "execute_result"
    }
   ],
   "source": [
    "dataset_test = pd.read_csv(\"../../data/inputs/input_all.csv\",\n",
    "                           names=['task_name','xmin','xmax','ymin','ymax','label','h','w'])\n",
    "dataset_test.head(3)"
   ]
  },
  {
   "cell_type": "code",
   "execution_count": 3,
   "metadata": {},
   "outputs": [],
   "source": [
    "def df_to_grouped_csv(_df):\n",
    "    df = copy.deepcopy(_df)\n",
    "    df[['_task_name', 'file_name']] = df['task_name'].str.split('/', 1, expand=True)\n",
    "    df_group = df.groupby(['_task_name'])\n",
    "    for name, group in df_group:\n",
    "        outfile = f\"{name}.csv\"\n",
    "        #group['task_name'] = group['_task_name'] + '-' + group['file_name']\n",
    "        group[['task_name','xmin','xmax','ymin','ymax','label','h','w']].to_csv(\n",
    "            f\"../../data/inputs/input_all_per_tasks/{outfile}\", \n",
    "            index=False,header=False)"
   ]
  },
  {
   "cell_type": "code",
   "execution_count": 4,
   "metadata": {},
   "outputs": [],
   "source": [
    "df_to_grouped_csv(dataset_test)"
   ]
  },
  {
   "cell_type": "code",
   "execution_count": 5,
   "metadata": {},
   "outputs": [
    {
     "data": {
      "text/plain": [
       "['task_2021-03-01_10.csv',\n",
       " 'task_20210624_balacet.csv',\n",
       " 'task_20210611_Lab.csv',\n",
       " 'task_06-01-2021.csv',\n",
       " 'task_20210523_UPS.csv',\n",
       " 'task_20210615_Lab.csv',\n",
       " 'task_20210205.csv',\n",
       " 'task_20211204_Orlu.csv',\n",
       " 'task_05-01-2021.csv',\n",
       " 'task_20210228.csv',\n",
       " 'task_2021-03-01_11.csv',\n",
       " 'task_2021-03-01_15.csv',\n",
       " 'task_2021-03-01_09.csv',\n",
       " 'task_2021-03-01_07.csv',\n",
       " 'task_20210217.csv',\n",
       " 'task_20210227.csv',\n",
       " 'task_20210612_1_Lab.csv',\n",
       " 'task_20210416_UPS.csv',\n",
       " 'task_2021-03-01_12.csv',\n",
       " 'task_20210526_UPS.csv',\n",
       " 'task_20210525_UPS.csv',\n",
       " 'task_2021-03-01_08.csv',\n",
       " 'task_20210705-07_balacet.csv',\n",
       " 'task_2021-03-01_13.csv',\n",
       " 'task_2021-03-01_17.csv',\n",
       " 'task_20210419_UPS.csv',\n",
       " 'task_2021-03-01_14.csv',\n",
       " 'task_2021_11_03-04_cescau4.csv',\n",
       " 'task_19-01-2021.csv',\n",
       " 'task_20210418_UPS.csv',\n",
       " 'task_20210623_balacet.csv',\n",
       " 'task_MOIDOM_ODJ.csv',\n",
       " 'task_2021-03-01_18.csv',\n",
       " 'task_20210616_Lab.csv',\n",
       " 'task_18-01-2021.csv',\n",
       " 'task_2021-03-01_16.csv',\n",
       " 'task_20210409.csv',\n",
       " 'task_20210420.csv',\n",
       " 'task_20210625_balacet.csv',\n",
       " 'task_20210417_UPS.csv',\n",
       " 'task_20210413_UPS.csv',\n",
       " 'task_20210412.csv',\n",
       " 'task_20210415_UPS.csv',\n",
       " 'task_21-01-2021.csv',\n",
       " 'task_20210414.csv']"
      ]
     },
     "execution_count": 5,
     "metadata": {},
     "output_type": "execute_result"
    }
   ],
   "source": [
    "import os\n",
    "list(os.listdir('../../data/inputs/input_all_per_tasks'))"
   ]
  },
  {
   "cell_type": "code",
   "execution_count": null,
   "metadata": {},
   "outputs": [],
   "source": []
  }
 ],
 "metadata": {
  "interpreter": {
   "hash": "916dbcbb3f70747c44a77c7bcd40155683ae19c65e1c03b4aa3499c5328201f1"
  },
  "kernelspec": {
   "display_name": "Python 3.8.10 64-bit",
   "language": "python",
   "name": "python3"
  },
  "language_info": {
   "codemirror_mode": {
    "name": "ipython",
    "version": 3
   },
   "file_extension": ".py",
   "mimetype": "text/x-python",
   "name": "python",
   "nbconvert_exporter": "python",
   "pygments_lexer": "ipython3",
   "version": "3.8.10"
  },
  "orig_nbformat": 4
 },
 "nbformat": 4,
 "nbformat_minor": 2
}
