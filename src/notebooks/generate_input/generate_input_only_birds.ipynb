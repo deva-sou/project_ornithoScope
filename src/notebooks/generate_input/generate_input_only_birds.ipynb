{
 "cells": [
  {
   "cell_type": "markdown",
   "metadata": {},
   "source": [
    "# Keep only the birds"
   ]
  },
  {
   "cell_type": "code",
   "execution_count": 14,
   "metadata": {},
   "outputs": [],
   "source": [
    "import pandas as pd\n",
    "from sklearn.model_selection import train_test_split"
   ]
  },
  {
   "cell_type": "code",
   "execution_count": 11,
   "metadata": {},
   "outputs": [],
   "source": [
    "unwanted_labels_list = ['ECUROU','MULGRI']\n",
    "df_input = pd.read_csv('../data/raw_data/raw_input_not_normalized_with_resolution.csv',\n",
    "                       names = [\"path\",\"x1\",\"x2\",\"y1\",\"y2\",\"label\",\"height\",\"width\"])\n",
    "for label in unwanted_labels_list:\n",
    "    df_input = df_input[(df_input.label != label)]"
   ]
  },
  {
   "cell_type": "code",
   "execution_count": 12,
   "metadata": {},
   "outputs": [
    {
     "data": {
      "text/plain": [
       "array(['MESCHA', 'SITTOR', 'MESBLE', 'MESNON', 'PINARB', 'ACCMOU',\n",
       "       'ROUGOR', 'VEREUR', 'TOUTUR', 'MOIDOM', 'PIEBAV', 'CAMPAG',\n",
       "       'MESNOI', 'MESHUP'], dtype=object)"
      ]
     },
     "execution_count": 12,
     "metadata": {},
     "output_type": "execute_result"
    }
   ],
   "source": [
    "df_input['label'].unique()"
   ]
  },
  {
   "cell_type": "code",
   "execution_count": 13,
   "metadata": {},
   "outputs": [],
   "source": [
    "df_input.to_csv('../data/raw_data/raw_input_only_birds.csv', header=False)"
   ]
  },
  {
   "cell_type": "code",
   "execution_count": 15,
   "metadata": {},
   "outputs": [],
   "source": [
    "train_onlybirds, test_onlybirds = train_test_split(df_input, test_size=0.30)"
   ]
  },
  {
   "cell_type": "code",
   "execution_count": 16,
   "metadata": {},
   "outputs": [
    {
     "data": {
      "text/html": [
       "<div>\n",
       "<style scoped>\n",
       "    .dataframe tbody tr th:only-of-type {\n",
       "        vertical-align: middle;\n",
       "    }\n",
       "\n",
       "    .dataframe tbody tr th {\n",
       "        vertical-align: top;\n",
       "    }\n",
       "\n",
       "    .dataframe thead th {\n",
       "        text-align: right;\n",
       "    }\n",
       "</style>\n",
       "<table border=\"1\" class=\"dataframe\">\n",
       "  <thead>\n",
       "    <tr style=\"text-align: right;\">\n",
       "      <th></th>\n",
       "      <th>path</th>\n",
       "      <th>x1</th>\n",
       "      <th>x2</th>\n",
       "      <th>y1</th>\n",
       "      <th>y2</th>\n",
       "      <th>label</th>\n",
       "      <th>height</th>\n",
       "      <th>width</th>\n",
       "    </tr>\n",
       "  </thead>\n",
       "  <tbody>\n",
       "    <tr>\n",
       "      <th>756</th>\n",
       "      <td>task_05-01-2021/2021-01-05-17-33-42.jpg</td>\n",
       "      <td>835.584</td>\n",
       "      <td>407.0208</td>\n",
       "      <td>1746.432</td>\n",
       "      <td>989.7536</td>\n",
       "      <td>ACCMOU</td>\n",
       "      <td>1920</td>\n",
       "      <td>1088</td>\n",
       "    </tr>\n",
       "    <tr>\n",
       "      <th>6560</th>\n",
       "      <td>task_20210615_Lab/2021-06-15-09-11-13.jpg</td>\n",
       "      <td>1329.600</td>\n",
       "      <td>229.2840</td>\n",
       "      <td>1597.824</td>\n",
       "      <td>567.0000</td>\n",
       "      <td>MESCHA</td>\n",
       "      <td>1920</td>\n",
       "      <td>1080</td>\n",
       "    </tr>\n",
       "    <tr>\n",
       "      <th>13820</th>\n",
       "      <td>task_21-01-2021/2021-01-21-13-42-10.jpg</td>\n",
       "      <td>908.928</td>\n",
       "      <td>337.4976</td>\n",
       "      <td>1258.176</td>\n",
       "      <td>737.0112</td>\n",
       "      <td>MESBLE</td>\n",
       "      <td>1920</td>\n",
       "      <td>1088</td>\n",
       "    </tr>\n",
       "    <tr>\n",
       "      <th>13950</th>\n",
       "      <td>task_21-01-2021/2021-01-21-14-03-36.jpg</td>\n",
       "      <td>764.160</td>\n",
       "      <td>275.8080</td>\n",
       "      <td>1315.968</td>\n",
       "      <td>627.0144</td>\n",
       "      <td>MESCHA</td>\n",
       "      <td>1920</td>\n",
       "      <td>1088</td>\n",
       "    </tr>\n",
       "    <tr>\n",
       "      <th>6344</th>\n",
       "      <td>task_20210525_UPS/20210525-164853_(30.0).jpg</td>\n",
       "      <td>611.712</td>\n",
       "      <td>349.1392</td>\n",
       "      <td>1917.312</td>\n",
       "      <td>997.9136</td>\n",
       "      <td>PIEBAV</td>\n",
       "      <td>1920</td>\n",
       "      <td>1088</td>\n",
       "    </tr>\n",
       "    <tr>\n",
       "      <th>...</th>\n",
       "      <td>...</td>\n",
       "      <td>...</td>\n",
       "      <td>...</td>\n",
       "      <td>...</td>\n",
       "      <td>...</td>\n",
       "      <td>...</td>\n",
       "      <td>...</td>\n",
       "      <td>...</td>\n",
       "    </tr>\n",
       "    <tr>\n",
       "      <th>7917</th>\n",
       "      <td>task_20210623_balacet/2021-06-23-17-12-25.jpg</td>\n",
       "      <td>1158.528</td>\n",
       "      <td>505.5480</td>\n",
       "      <td>1876.416</td>\n",
       "      <td>1080.0000</td>\n",
       "      <td>ACCMOU</td>\n",
       "      <td>1920</td>\n",
       "      <td>1080</td>\n",
       "    </tr>\n",
       "    <tr>\n",
       "      <th>12670</th>\n",
       "      <td>task_20211204_Orlu/2021-12-23-16-09-49.jpg</td>\n",
       "      <td>892.608</td>\n",
       "      <td>454.8960</td>\n",
       "      <td>1481.472</td>\n",
       "      <td>823.5000</td>\n",
       "      <td>MESCHA</td>\n",
       "      <td>1920</td>\n",
       "      <td>1080</td>\n",
       "    </tr>\n",
       "    <tr>\n",
       "      <th>8478</th>\n",
       "      <td>task_2021_11_03-04_cescau4/2021-11-03-11-24-54...</td>\n",
       "      <td>1377.792</td>\n",
       "      <td>475.0920</td>\n",
       "      <td>1564.992</td>\n",
       "      <td>678.1320</td>\n",
       "      <td>MESNON</td>\n",
       "      <td>1920</td>\n",
       "      <td>1080</td>\n",
       "    </tr>\n",
       "    <tr>\n",
       "      <th>11774</th>\n",
       "      <td>task_20210612_1_Lab/2021-06-12-06-27-31.jpg</td>\n",
       "      <td>1020.864</td>\n",
       "      <td>281.3400</td>\n",
       "      <td>1410.624</td>\n",
       "      <td>700.0560</td>\n",
       "      <td>MESCHA</td>\n",
       "      <td>1920</td>\n",
       "      <td>1080</td>\n",
       "    </tr>\n",
       "    <tr>\n",
       "      <th>7849</th>\n",
       "      <td>task_20210623_balacet/2021-06-23-13-40-10.jpg</td>\n",
       "      <td>460.416</td>\n",
       "      <td>301.6440</td>\n",
       "      <td>1079.808</td>\n",
       "      <td>712.6920</td>\n",
       "      <td>MESCHA</td>\n",
       "      <td>1920</td>\n",
       "      <td>1080</td>\n",
       "    </tr>\n",
       "  </tbody>\n",
       "</table>\n",
       "<p>8829 rows × 8 columns</p>\n",
       "</div>"
      ],
      "text/plain": [
       "                                                    path        x1        x2  \\\n",
       "756              task_05-01-2021/2021-01-05-17-33-42.jpg   835.584  407.0208   \n",
       "6560           task_20210615_Lab/2021-06-15-09-11-13.jpg  1329.600  229.2840   \n",
       "13820            task_21-01-2021/2021-01-21-13-42-10.jpg   908.928  337.4976   \n",
       "13950            task_21-01-2021/2021-01-21-14-03-36.jpg   764.160  275.8080   \n",
       "6344        task_20210525_UPS/20210525-164853_(30.0).jpg   611.712  349.1392   \n",
       "...                                                  ...       ...       ...   \n",
       "7917       task_20210623_balacet/2021-06-23-17-12-25.jpg  1158.528  505.5480   \n",
       "12670         task_20211204_Orlu/2021-12-23-16-09-49.jpg   892.608  454.8960   \n",
       "8478   task_2021_11_03-04_cescau4/2021-11-03-11-24-54...  1377.792  475.0920   \n",
       "11774        task_20210612_1_Lab/2021-06-12-06-27-31.jpg  1020.864  281.3400   \n",
       "7849       task_20210623_balacet/2021-06-23-13-40-10.jpg   460.416  301.6440   \n",
       "\n",
       "             y1         y2   label  height  width  \n",
       "756    1746.432   989.7536  ACCMOU    1920   1088  \n",
       "6560   1597.824   567.0000  MESCHA    1920   1080  \n",
       "13820  1258.176   737.0112  MESBLE    1920   1088  \n",
       "13950  1315.968   627.0144  MESCHA    1920   1088  \n",
       "6344   1917.312   997.9136  PIEBAV    1920   1088  \n",
       "...         ...        ...     ...     ...    ...  \n",
       "7917   1876.416  1080.0000  ACCMOU    1920   1080  \n",
       "12670  1481.472   823.5000  MESCHA    1920   1080  \n",
       "8478   1564.992   678.1320  MESNON    1920   1080  \n",
       "11774  1410.624   700.0560  MESCHA    1920   1080  \n",
       "7849   1079.808   712.6920  MESCHA    1920   1080  \n",
       "\n",
       "[8829 rows x 8 columns]"
      ]
     },
     "execution_count": 16,
     "metadata": {},
     "output_type": "execute_result"
    }
   ],
   "source": [
    "train_onlybirds"
   ]
  },
  {
   "cell_type": "code",
   "execution_count": 17,
   "metadata": {},
   "outputs": [],
   "source": [
    "train_onlybirds.to_csv('../data/input_only_birds/input_train_random_only_birds.csv', header=False,index=False)"
   ]
  },
  {
   "cell_type": "code",
   "execution_count": 18,
   "metadata": {},
   "outputs": [],
   "source": [
    "test_onlybirds.to_csv('../data/input_only_birds/input_test_random_only_birds.csv', header=False,index=False)"
   ]
  },
  {
   "cell_type": "code",
   "execution_count": null,
   "metadata": {},
   "outputs": [],
   "source": []
  }
 ],
 "metadata": {
  "interpreter": {
   "hash": "162b2533d1a0f31b885cb10b4911cd00163a1fd38d98fd78df34f1ee72e3aaf1"
  },
  "kernelspec": {
   "display_name": "Python 3.8.10 ('venv_ornithoscope': venv)",
   "language": "python",
   "name": "python3"
  },
  "language_info": {
   "codemirror_mode": {
    "name": "ipython",
    "version": 3
   },
   "file_extension": ".py",
   "mimetype": "text/x-python",
   "name": "python",
   "nbconvert_exporter": "python",
   "pygments_lexer": "ipython3",
   "version": "3.8.10"
  },
  "orig_nbformat": 4
 },
 "nbformat": 4,
 "nbformat_minor": 2
}
